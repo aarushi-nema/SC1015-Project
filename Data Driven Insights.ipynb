{
 "cells": [
  {
   "cell_type": "markdown",
   "id": "c461eb71",
   "metadata": {},
   "source": [
    "## Import Necessary Libraries"
   ]
  },
  {
   "cell_type": "code",
   "execution_count": 59,
   "id": "56ba856d",
   "metadata": {},
   "outputs": [],
   "source": [
    "#For Data Processing\n",
    "import pandas as pd\n",
    "import numpy as np\n",
    "\n",
    "#For Data Visualization\n",
    "import matplotlib.pyplot as plt\n",
    "import plotly.express as px\n",
    "import seaborn as sb\n",
    "from mpl_toolkits import mplot3d\n",
    "sb.set()"
   ]
  },
  {
   "cell_type": "markdown",
   "id": "b079e934",
   "metadata": {},
   "source": [
    "## Import Datasets"
   ]
  },
  {
   "cell_type": "code",
   "execution_count": 60,
   "id": "3e373734",
   "metadata": {},
   "outputs": [
    {
     "data": {
      "text/html": [
       "<div>\n",
       "<style scoped>\n",
       "    .dataframe tbody tr th:only-of-type {\n",
       "        vertical-align: middle;\n",
       "    }\n",
       "\n",
       "    .dataframe tbody tr th {\n",
       "        vertical-align: top;\n",
       "    }\n",
       "\n",
       "    .dataframe thead th {\n",
       "        text-align: right;\n",
       "    }\n",
       "</style>\n",
       "<table border=\"1\" class=\"dataframe\">\n",
       "  <thead>\n",
       "    <tr style=\"text-align: right;\">\n",
       "      <th></th>\n",
       "      <th>Country</th>\n",
       "      <th>Hydro(TWh)</th>\n",
       "      <th>Biofuel(TWh)</th>\n",
       "      <th>Solar PV (TWh)</th>\n",
       "      <th>Geothermal (TWh)</th>\n",
       "      <th>Total (TWh)</th>\n",
       "    </tr>\n",
       "  </thead>\n",
       "  <tbody>\n",
       "    <tr>\n",
       "      <th>0</th>\n",
       "      <td>China</td>\n",
       "      <td>1189.84</td>\n",
       "      <td>295.0200</td>\n",
       "      <td>79.43</td>\n",
       "      <td>0.1250</td>\n",
       "      <td>1819.9400</td>\n",
       "    </tr>\n",
       "    <tr>\n",
       "      <th>1</th>\n",
       "      <td>USA</td>\n",
       "      <td>315.62</td>\n",
       "      <td>277.9100</td>\n",
       "      <td>58.95</td>\n",
       "      <td>18.9600</td>\n",
       "      <td>758.6190</td>\n",
       "    </tr>\n",
       "    <tr>\n",
       "      <th>2</th>\n",
       "      <td>Brazil</td>\n",
       "      <td>370.90</td>\n",
       "      <td>42.3700</td>\n",
       "      <td>52.25</td>\n",
       "      <td>0.0000</td>\n",
       "      <td>466.3500</td>\n",
       "    </tr>\n",
       "    <tr>\n",
       "      <th>3</th>\n",
       "      <td>Canada</td>\n",
       "      <td>383.48</td>\n",
       "      <td>29.6500</td>\n",
       "      <td>7.12</td>\n",
       "      <td>0.0000</td>\n",
       "      <td>424.0900</td>\n",
       "    </tr>\n",
       "    <tr>\n",
       "      <th>4</th>\n",
       "      <td>India</td>\n",
       "      <td>141.80</td>\n",
       "      <td>51.0600</td>\n",
       "      <td>43.76</td>\n",
       "      <td>0.0000</td>\n",
       "      <td>262.6500</td>\n",
       "    </tr>\n",
       "    <tr>\n",
       "      <th>5</th>\n",
       "      <td>Germany</td>\n",
       "      <td>24.17</td>\n",
       "      <td>111.5900</td>\n",
       "      <td>45.10</td>\n",
       "      <td>0.1600</td>\n",
       "      <td>227.1800</td>\n",
       "    </tr>\n",
       "    <tr>\n",
       "      <th>6</th>\n",
       "      <td>Russia</td>\n",
       "      <td>187.13</td>\n",
       "      <td>0.1400</td>\n",
       "      <td>0.08</td>\n",
       "      <td>0.4300</td>\n",
       "      <td>188.3300</td>\n",
       "    </tr>\n",
       "    <tr>\n",
       "      <th>7</th>\n",
       "      <td>Japan</td>\n",
       "      <td>90.67</td>\n",
       "      <td>7.6300</td>\n",
       "      <td>19.01</td>\n",
       "      <td>2.4400</td>\n",
       "      <td>187.3490</td>\n",
       "    </tr>\n",
       "    <tr>\n",
       "      <th>8</th>\n",
       "      <td>France</td>\n",
       "      <td>70.13</td>\n",
       "      <td>28.5000</td>\n",
       "      <td>5.87</td>\n",
       "      <td>0.1300</td>\n",
       "      <td>114.8200</td>\n",
       "    </tr>\n",
       "    <tr>\n",
       "      <th>9</th>\n",
       "      <td>Italy</td>\n",
       "      <td>50.92</td>\n",
       "      <td>17.4900</td>\n",
       "      <td>16.85</td>\n",
       "      <td>6.0800</td>\n",
       "      <td>113.9900</td>\n",
       "    </tr>\n",
       "    <tr>\n",
       "      <th>10</th>\n",
       "      <td>UK</td>\n",
       "      <td>7.96</td>\n",
       "      <td>57.1100</td>\n",
       "      <td>32.08</td>\n",
       "      <td>0.0000</td>\n",
       "      <td>110.0700</td>\n",
       "    </tr>\n",
       "    <tr>\n",
       "      <th>11</th>\n",
       "      <td>Spain</td>\n",
       "      <td>36.74</td>\n",
       "      <td>50.8100</td>\n",
       "      <td>5.48</td>\n",
       "      <td>0.0000</td>\n",
       "      <td>100.5400</td>\n",
       "    </tr>\n",
       "    <tr>\n",
       "      <th>12</th>\n",
       "      <td>Turkey</td>\n",
       "      <td>59.74</td>\n",
       "      <td>19.8800</td>\n",
       "      <td>2.63</td>\n",
       "      <td>6.9000</td>\n",
       "      <td>96.6200</td>\n",
       "    </tr>\n",
       "    <tr>\n",
       "      <th>13</th>\n",
       "      <td>Mexico</td>\n",
       "      <td>32.52</td>\n",
       "      <td>13.0700</td>\n",
       "      <td>1.88</td>\n",
       "      <td>5.3600</td>\n",
       "      <td>56.0200</td>\n",
       "    </tr>\n",
       "    <tr>\n",
       "      <th>14</th>\n",
       "      <td>Australia</td>\n",
       "      <td>16.02</td>\n",
       "      <td>15.1700</td>\n",
       "      <td>3.51</td>\n",
       "      <td>0.0000</td>\n",
       "      <td>44.6200</td>\n",
       "    </tr>\n",
       "    <tr>\n",
       "      <th>15</th>\n",
       "      <td>Indonesia</td>\n",
       "      <td>18.63</td>\n",
       "      <td>0.0006</td>\n",
       "      <td>0.23</td>\n",
       "      <td>12.7600</td>\n",
       "      <td>41.6406</td>\n",
       "    </tr>\n",
       "    <tr>\n",
       "      <th>16</th>\n",
       "      <td>Thailand</td>\n",
       "      <td>9.52</td>\n",
       "      <td>1.1000</td>\n",
       "      <td>15.38</td>\n",
       "      <td>0.0001</td>\n",
       "      <td>30.5401</td>\n",
       "    </tr>\n",
       "    <tr>\n",
       "      <th>17</th>\n",
       "      <td>South Korea</td>\n",
       "      <td>7.28</td>\n",
       "      <td>2.4600</td>\n",
       "      <td>6.82</td>\n",
       "      <td>0.0000</td>\n",
       "      <td>25.3200</td>\n",
       "    </tr>\n",
       "    <tr>\n",
       "      <th>18</th>\n",
       "      <td>Iran</td>\n",
       "      <td>15.05</td>\n",
       "      <td>0.3000</td>\n",
       "      <td>0.02</td>\n",
       "      <td>0.0000</td>\n",
       "      <td>15.4500</td>\n",
       "    </tr>\n",
       "    <tr>\n",
       "      <th>19</th>\n",
       "      <td>Taiwan</td>\n",
       "      <td>8.87</td>\n",
       "      <td>1.7300</td>\n",
       "      <td>0.11</td>\n",
       "      <td>0.0000</td>\n",
       "      <td>12.4000</td>\n",
       "    </tr>\n",
       "  </tbody>\n",
       "</table>\n",
       "</div>"
      ],
      "text/plain": [
       "        Country  Hydro(TWh)  Biofuel(TWh)  Solar PV (TWh)  Geothermal (TWh)  \\\n",
       "0         China     1189.84      295.0200           79.43            0.1250   \n",
       "1           USA      315.62      277.9100           58.95           18.9600   \n",
       "2        Brazil      370.90       42.3700           52.25            0.0000   \n",
       "3        Canada      383.48       29.6500            7.12            0.0000   \n",
       "4         India      141.80       51.0600           43.76            0.0000   \n",
       "5       Germany       24.17      111.5900           45.10            0.1600   \n",
       "6        Russia      187.13        0.1400            0.08            0.4300   \n",
       "7         Japan       90.67        7.6300           19.01            2.4400   \n",
       "8        France       70.13       28.5000            5.87            0.1300   \n",
       "9         Italy       50.92       17.4900           16.85            6.0800   \n",
       "10           UK        7.96       57.1100           32.08            0.0000   \n",
       "11        Spain       36.74       50.8100            5.48            0.0000   \n",
       "12       Turkey       59.74       19.8800            2.63            6.9000   \n",
       "13       Mexico       32.52       13.0700            1.88            5.3600   \n",
       "14    Australia       16.02       15.1700            3.51            0.0000   \n",
       "15    Indonesia       18.63        0.0006            0.23           12.7600   \n",
       "16     Thailand        9.52        1.1000           15.38            0.0001   \n",
       "17  South Korea        7.28        2.4600            6.82            0.0000   \n",
       "18         Iran       15.05        0.3000            0.02            0.0000   \n",
       "19       Taiwan        8.87        1.7300            0.11            0.0000   \n",
       "\n",
       "    Total (TWh)  \n",
       "0     1819.9400  \n",
       "1      758.6190  \n",
       "2      466.3500  \n",
       "3      424.0900  \n",
       "4      262.6500  \n",
       "5      227.1800  \n",
       "6      188.3300  \n",
       "7      187.3490  \n",
       "8      114.8200  \n",
       "9      113.9900  \n",
       "10     110.0700  \n",
       "11     100.5400  \n",
       "12      96.6200  \n",
       "13      56.0200  \n",
       "14      44.6200  \n",
       "15      41.6406  \n",
       "16      30.5401  \n",
       "17      25.3200  \n",
       "18      15.4500  \n",
       "19      12.4000  "
      ]
     },
     "execution_count": 60,
     "metadata": {},
     "output_type": "execute_result"
    }
   ],
   "source": [
    "#load the dataset\n",
    "#API Link: \"kaggle datasets download -d jamesvandenberg/renewable-power-generation\"\n",
    "dataset = pd.read_csv(\"top20CountriesPowerGeneration.csv\")\n",
    "dataset"
   ]
  },
  {
   "cell_type": "code",
   "execution_count": 61,
   "id": "dc2001a5",
   "metadata": {},
   "outputs": [],
   "source": [
    "def sort_display(datasetName, colName):\n",
    "    \"\"\"\n",
    "    Function to sort and display a given dataset according to a specific variable. \n",
    "    Additionally, it displays the barplot of the variable against 'Country'\n",
    "    \n",
    "    \"\"\"\n",
    "    datasetName = datasetName.sort_values(by=[colName], ascending=False)\n",
    "    datasetName.head()\n",
    "    \n",
    "    plt.xticks(rotation=90)\n",
    "    sb.barplot(data=datasetName, x=datasetName[\"Country\"], y=datasetName[colName])"
   ]
  },
  {
   "cell_type": "code",
   "execution_count": 62,
   "id": "9097b781",
   "metadata": {
    "scrolled": true
   },
   "outputs": [
    {
     "data": {
      "image/png": "[encoded data removed]",
      "text/plain": [
       "<Figure size 432x288 with 1 Axes>"
      ]
     },
     "metadata": {},
     "output_type": "display_data"
    }
   ],
   "source": [
    "sort_display(dataset, 'Hydro(TWh)')"
   ]
  },
  {
   "cell_type": "markdown",
   "id": "7a56f718",
   "metadata": {},
   "source": [
    "Here we see that China is the lead consumer of Hydro energy, followed by Canada and Brazil. "
   ]
  },
  {
   "cell_type": "code",
   "execution_count": 63,
   "id": "e362acdd",
   "metadata": {},
   "outputs": [
    {
     "data": {
      "image/png": "[encoded data removed]",
      "text/plain": [
       "<Figure size 432x288 with 1 Axes>"
      ]
     },
     "metadata": {},
     "output_type": "display_data"
    }
   ],
   "source": [
    "sort_display(dataset, 'Biofuel(TWh)')"
   ]
  },
  {
   "cell_type": "markdown",
   "id": "d838c0fb",
   "metadata": {},
   "source": [
    "Here we see that China is the lead consumer of BioFuel energy, followed by USA and Germany. "
   ]
  },
  {
   "cell_type": "code",
   "execution_count": 64,
   "id": "209ff62c",
   "metadata": {},
   "outputs": [
    {
     "data": {
      "image/png": "[encoded data removed]",
      "text/plain": [
       "<Figure size 432x288 with 1 Axes>"
      ]
     },
     "metadata": {},
     "output_type": "display_data"
    }
   ],
   "source": [
    "sort_display(dataset, 'Solar PV (TWh)')"
   ]
  },
  {
   "cell_type": "markdown",
   "id": "3a961693",
   "metadata": {},
   "source": [
    "Here we see that China is the lead consumer of Solar PV energy, followed by USA and Brazil. "
   ]
  },
  {
   "cell_type": "code",
   "execution_count": 65,
   "id": "e7d19fd5",
   "metadata": {},
   "outputs": [
    {
     "data": {
      "image/png": "[encoded data removed]",
      "text/plain": [
       "<Figure size 432x288 with 1 Axes>"
      ]
     },
     "metadata": {},
     "output_type": "display_data"
    }
   ],
   "source": [
    "sort_display(dataset, 'Geothermal (TWh)')"
   ]
  },
  {
   "cell_type": "markdown",
   "id": "3f0974e9",
   "metadata": {},
   "source": [
    "Here we see that USA is the lead consumer of Geothermal energy, followed by Indonesia and Turkey. "
   ]
  },
  {
   "cell_type": "code",
   "execution_count": 66,
   "id": "5a4a0ac1",
   "metadata": {},
   "outputs": [
    {
     "data": {
      "image/png": "[encoded data removed]",
      "text/plain": [
       "<Figure size 432x288 with 1 Axes>"
      ]
     },
     "metadata": {},
     "output_type": "display_data"
    }
   ],
   "source": [
    "sort_display(dataset, 'Total (TWh)')"
   ]
  },
  {
   "cell_type": "markdown",
   "id": "288ed90a",
   "metadata": {},
   "source": [
    "Here we see that China is the lead consumer of total energy, followed by USA and Brazil."
   ]
  },
  {
   "cell_type": "code",
   "execution_count": 67,
   "id": "393114c9",
   "metadata": {},
   "outputs": [
    {
     "data": {
      "text/html": [
       "<div>\n",
       "<style scoped>\n",
       "    .dataframe tbody tr th:only-of-type {\n",
       "        vertical-align: middle;\n",
       "    }\n",
       "\n",
       "    .dataframe tbody tr th {\n",
       "        vertical-align: top;\n",
       "    }\n",
       "\n",
       "    .dataframe thead th {\n",
       "        text-align: right;\n",
       "    }\n",
       "</style>\n",
       "<table border=\"1\" class=\"dataframe\">\n",
       "  <thead>\n",
       "    <tr style=\"text-align: right;\">\n",
       "      <th></th>\n",
       "      <th>China</th>\n",
       "      <th>United States</th>\n",
       "      <th>Brazil</th>\n",
       "      <th>Belgium</th>\n",
       "      <th>Czechia</th>\n",
       "      <th>France</th>\n",
       "      <th>Germany</th>\n",
       "      <th>Italy</th>\n",
       "      <th>Netherlands</th>\n",
       "      <th>Poland</th>\n",
       "      <th>...</th>\n",
       "      <th>Australia</th>\n",
       "      <th>New Zealand</th>\n",
       "      <th>Algeria</th>\n",
       "      <th>Egypt</th>\n",
       "      <th>Nigeria</th>\n",
       "      <th>South Africa</th>\n",
       "      <th>Iran</th>\n",
       "      <th>Kuwait</th>\n",
       "      <th>Saudi Arabia</th>\n",
       "      <th>United Arab Emirates</th>\n",
       "    </tr>\n",
       "    <tr>\n",
       "      <th>Year</th>\n",
       "      <th></th>\n",
       "      <th></th>\n",
       "      <th></th>\n",
       "      <th></th>\n",
       "      <th></th>\n",
       "      <th></th>\n",
       "      <th></th>\n",
       "      <th></th>\n",
       "      <th></th>\n",
       "      <th></th>\n",
       "      <th></th>\n",
       "      <th></th>\n",
       "      <th></th>\n",
       "      <th></th>\n",
       "      <th></th>\n",
       "      <th></th>\n",
       "      <th></th>\n",
       "      <th></th>\n",
       "      <th></th>\n",
       "      <th></th>\n",
       "      <th></th>\n",
       "    </tr>\n",
       "  </thead>\n",
       "  <tbody>\n",
       "    <tr>\n",
       "      <th>1990.0</th>\n",
       "      <td>874.000000</td>\n",
       "      <td>1910.000000</td>\n",
       "      <td>141.000000</td>\n",
       "      <td>48.000000</td>\n",
       "      <td>50.000000</td>\n",
       "      <td>225.000000</td>\n",
       "      <td>351.000000</td>\n",
       "      <td>147.000000</td>\n",
       "      <td>67.000000</td>\n",
       "      <td>103.000000</td>\n",
       "      <td>...</td>\n",
       "      <td>86.000000</td>\n",
       "      <td>14.000000</td>\n",
       "      <td>22.000000</td>\n",
       "      <td>33.000000</td>\n",
       "      <td>66.000000</td>\n",
       "      <td>90.000000</td>\n",
       "      <td>69.000000</td>\n",
       "      <td>9.00000</td>\n",
       "      <td>58.000000</td>\n",
       "      <td>20.000000</td>\n",
       "    </tr>\n",
       "    <tr>\n",
       "      <th>1991.0</th>\n",
       "      <td>848.000000</td>\n",
       "      <td>1925.000000</td>\n",
       "      <td>143.000000</td>\n",
       "      <td>50.000000</td>\n",
       "      <td>45.000000</td>\n",
       "      <td>237.000000</td>\n",
       "      <td>344.000000</td>\n",
       "      <td>150.000000</td>\n",
       "      <td>69.000000</td>\n",
       "      <td>101.000000</td>\n",
       "      <td>...</td>\n",
       "      <td>85.000000</td>\n",
       "      <td>14.000000</td>\n",
       "      <td>23.000000</td>\n",
       "      <td>33.000000</td>\n",
       "      <td>70.000000</td>\n",
       "      <td>92.000000</td>\n",
       "      <td>77.000000</td>\n",
       "      <td>3.00000</td>\n",
       "      <td>68.000000</td>\n",
       "      <td>23.000000</td>\n",
       "    </tr>\n",
       "    <tr>\n",
       "      <th>1992.0</th>\n",
       "      <td>877.000000</td>\n",
       "      <td>1964.000000</td>\n",
       "      <td>145.000000</td>\n",
       "      <td>51.000000</td>\n",
       "      <td>44.000000</td>\n",
       "      <td>234.000000</td>\n",
       "      <td>338.000000</td>\n",
       "      <td>149.000000</td>\n",
       "      <td>69.000000</td>\n",
       "      <td>99.000000</td>\n",
       "      <td>...</td>\n",
       "      <td>87.000000</td>\n",
       "      <td>14.000000</td>\n",
       "      <td>24.000000</td>\n",
       "      <td>34.000000</td>\n",
       "      <td>72.000000</td>\n",
       "      <td>88.000000</td>\n",
       "      <td>81.000000</td>\n",
       "      <td>9.00000</td>\n",
       "      <td>77.000000</td>\n",
       "      <td>22.000000</td>\n",
       "    </tr>\n",
       "    <tr>\n",
       "      <th>1993.0</th>\n",
       "      <td>929.000000</td>\n",
       "      <td>1998.000000</td>\n",
       "      <td>148.000000</td>\n",
       "      <td>49.000000</td>\n",
       "      <td>43.000000</td>\n",
       "      <td>238.000000</td>\n",
       "      <td>335.000000</td>\n",
       "      <td>149.000000</td>\n",
       "      <td>70.000000</td>\n",
       "      <td>101.000000</td>\n",
       "      <td>...</td>\n",
       "      <td>91.000000</td>\n",
       "      <td>15.000000</td>\n",
       "      <td>24.000000</td>\n",
       "      <td>35.000000</td>\n",
       "      <td>74.000000</td>\n",
       "      <td>94.000000</td>\n",
       "      <td>87.000000</td>\n",
       "      <td>12.00000</td>\n",
       "      <td>80.000000</td>\n",
       "      <td>23.000000</td>\n",
       "    </tr>\n",
       "    <tr>\n",
       "      <th>1994.0</th>\n",
       "      <td>973.000000</td>\n",
       "      <td>2036.000000</td>\n",
       "      <td>156.000000</td>\n",
       "      <td>52.000000</td>\n",
       "      <td>41.000000</td>\n",
       "      <td>231.000000</td>\n",
       "      <td>333.000000</td>\n",
       "      <td>147.000000</td>\n",
       "      <td>70.000000</td>\n",
       "      <td>96.000000</td>\n",
       "      <td>...</td>\n",
       "      <td>91.000000</td>\n",
       "      <td>15.000000</td>\n",
       "      <td>23.000000</td>\n",
       "      <td>34.000000</td>\n",
       "      <td>72.000000</td>\n",
       "      <td>98.000000</td>\n",
       "      <td>97.000000</td>\n",
       "      <td>14.00000</td>\n",
       "      <td>84.000000</td>\n",
       "      <td>26.000000</td>\n",
       "    </tr>\n",
       "    <tr>\n",
       "      <th>1995.0</th>\n",
       "      <td>1045.000000</td>\n",
       "      <td>2063.000000</td>\n",
       "      <td>162.000000</td>\n",
       "      <td>53.000000</td>\n",
       "      <td>42.000000</td>\n",
       "      <td>240.000000</td>\n",
       "      <td>336.000000</td>\n",
       "      <td>159.000000</td>\n",
       "      <td>73.000000</td>\n",
       "      <td>99.000000</td>\n",
       "      <td>...</td>\n",
       "      <td>93.000000</td>\n",
       "      <td>15.000000</td>\n",
       "      <td>24.000000</td>\n",
       "      <td>36.000000</td>\n",
       "      <td>73.000000</td>\n",
       "      <td>104.000000</td>\n",
       "      <td>101.000000</td>\n",
       "      <td>15.00000</td>\n",
       "      <td>85.000000</td>\n",
       "      <td>28.000000</td>\n",
       "    </tr>\n",
       "    <tr>\n",
       "      <th>1996.0</th>\n",
       "      <td>1074.000000</td>\n",
       "      <td>2108.000000</td>\n",
       "      <td>170.000000</td>\n",
       "      <td>56.000000</td>\n",
       "      <td>43.000000</td>\n",
       "      <td>251.000000</td>\n",
       "      <td>348.000000</td>\n",
       "      <td>159.000000</td>\n",
       "      <td>77.000000</td>\n",
       "      <td>104.000000</td>\n",
       "      <td>...</td>\n",
       "      <td>99.000000</td>\n",
       "      <td>16.000000</td>\n",
       "      <td>23.000000</td>\n",
       "      <td>38.000000</td>\n",
       "      <td>76.000000</td>\n",
       "      <td>107.000000</td>\n",
       "      <td>98.000000</td>\n",
       "      <td>14.00000</td>\n",
       "      <td>90.000000</td>\n",
       "      <td>29.000000</td>\n",
       "    </tr>\n",
       "    <tr>\n",
       "      <th>1997.0</th>\n",
       "      <td>1073.000000</td>\n",
       "      <td>2130.000000</td>\n",
       "      <td>179.000000</td>\n",
       "      <td>56.000000</td>\n",
       "      <td>43.000000</td>\n",
       "      <td>244.000000</td>\n",
       "      <td>345.000000</td>\n",
       "      <td>162.000000</td>\n",
       "      <td>75.000000</td>\n",
       "      <td>102.000000</td>\n",
       "      <td>...</td>\n",
       "      <td>101.000000</td>\n",
       "      <td>16.000000</td>\n",
       "      <td>24.000000</td>\n",
       "      <td>40.000000</td>\n",
       "      <td>79.000000</td>\n",
       "      <td>109.000000</td>\n",
       "      <td>109.000000</td>\n",
       "      <td>15.00000</td>\n",
       "      <td>86.000000</td>\n",
       "      <td>31.000000</td>\n",
       "    </tr>\n",
       "    <tr>\n",
       "      <th>1998.0</th>\n",
       "      <td>1079.000000</td>\n",
       "      <td>2148.000000</td>\n",
       "      <td>183.000000</td>\n",
       "      <td>57.000000</td>\n",
       "      <td>42.000000</td>\n",
       "      <td>252.000000</td>\n",
       "      <td>343.000000</td>\n",
       "      <td>166.000000</td>\n",
       "      <td>75.000000</td>\n",
       "      <td>95.000000</td>\n",
       "      <td>...</td>\n",
       "      <td>104.000000</td>\n",
       "      <td>16.000000</td>\n",
       "      <td>25.000000</td>\n",
       "      <td>42.000000</td>\n",
       "      <td>80.000000</td>\n",
       "      <td>111.000000</td>\n",
       "      <td>111.000000</td>\n",
       "      <td>17.00000</td>\n",
       "      <td>92.000000</td>\n",
       "      <td>32.000000</td>\n",
       "    </tr>\n",
       "    <tr>\n",
       "      <th>1999.0</th>\n",
       "      <td>1099.000000</td>\n",
       "      <td>2206.000000</td>\n",
       "      <td>187.000000</td>\n",
       "      <td>57.000000</td>\n",
       "      <td>39.000000</td>\n",
       "      <td>252.000000</td>\n",
       "      <td>335.000000</td>\n",
       "      <td>169.000000</td>\n",
       "      <td>74.000000</td>\n",
       "      <td>93.000000</td>\n",
       "      <td>...</td>\n",
       "      <td>106.000000</td>\n",
       "      <td>17.000000</td>\n",
       "      <td>27.000000</td>\n",
       "      <td>43.000000</td>\n",
       "      <td>83.000000</td>\n",
       "      <td>109.000000</td>\n",
       "      <td>126.000000</td>\n",
       "      <td>18.00000</td>\n",
       "      <td>94.000000</td>\n",
       "      <td>32.000000</td>\n",
       "    </tr>\n",
       "    <tr>\n",
       "      <th>2000.0</th>\n",
       "      <td>1130.000000</td>\n",
       "      <td>2269.000000</td>\n",
       "      <td>188.000000</td>\n",
       "      <td>58.000000</td>\n",
       "      <td>41.000000</td>\n",
       "      <td>255.000000</td>\n",
       "      <td>337.000000</td>\n",
       "      <td>172.000000</td>\n",
       "      <td>75.000000</td>\n",
       "      <td>89.000000</td>\n",
       "      <td>...</td>\n",
       "      <td>108.000000</td>\n",
       "      <td>17.000000</td>\n",
       "      <td>27.000000</td>\n",
       "      <td>41.000000</td>\n",
       "      <td>87.000000</td>\n",
       "      <td>109.000000</td>\n",
       "      <td>123.000000</td>\n",
       "      <td>19.00000</td>\n",
       "      <td>98.000000</td>\n",
       "      <td>31.000000</td>\n",
       "    </tr>\n",
       "    <tr>\n",
       "      <th>2001.0</th>\n",
       "      <td>1168.000000</td>\n",
       "      <td>2226.000000</td>\n",
       "      <td>191.000000</td>\n",
       "      <td>58.000000</td>\n",
       "      <td>42.000000</td>\n",
       "      <td>260.000000</td>\n",
       "      <td>347.000000</td>\n",
       "      <td>172.000000</td>\n",
       "      <td>77.000000</td>\n",
       "      <td>90.000000</td>\n",
       "      <td>...</td>\n",
       "      <td>106.000000</td>\n",
       "      <td>17.000000</td>\n",
       "      <td>27.000000</td>\n",
       "      <td>47.000000</td>\n",
       "      <td>91.000000</td>\n",
       "      <td>105.000000</td>\n",
       "      <td>133.000000</td>\n",
       "      <td>20.00000</td>\n",
       "      <td>100.000000</td>\n",
       "      <td>40.000000</td>\n",
       "    </tr>\n",
       "    <tr>\n",
       "      <th>2002.0</th>\n",
       "      <td>1246.000000</td>\n",
       "      <td>2256.000000</td>\n",
       "      <td>196.000000</td>\n",
       "      <td>56.000000</td>\n",
       "      <td>43.000000</td>\n",
       "      <td>261.000000</td>\n",
       "      <td>339.000000</td>\n",
       "      <td>174.000000</td>\n",
       "      <td>78.000000</td>\n",
       "      <td>89.000000</td>\n",
       "      <td>...</td>\n",
       "      <td>109.000000</td>\n",
       "      <td>17.000000</td>\n",
       "      <td>29.000000</td>\n",
       "      <td>48.000000</td>\n",
       "      <td>94.000000</td>\n",
       "      <td>100.000000</td>\n",
       "      <td>138.000000</td>\n",
       "      <td>20.00000</td>\n",
       "      <td>114.000000</td>\n",
       "      <td>39.000000</td>\n",
       "    </tr>\n",
       "    <tr>\n",
       "      <th>2003.0</th>\n",
       "      <td>1420.000000</td>\n",
       "      <td>2262.000000</td>\n",
       "      <td>199.000000</td>\n",
       "      <td>58.000000</td>\n",
       "      <td>45.000000</td>\n",
       "      <td>268.000000</td>\n",
       "      <td>338.000000</td>\n",
       "      <td>182.000000</td>\n",
       "      <td>80.000000</td>\n",
       "      <td>91.000000</td>\n",
       "      <td>...</td>\n",
       "      <td>111.000000</td>\n",
       "      <td>17.000000</td>\n",
       "      <td>31.000000</td>\n",
       "      <td>50.000000</td>\n",
       "      <td>98.000000</td>\n",
       "      <td>113.000000</td>\n",
       "      <td>143.000000</td>\n",
       "      <td>21.00000</td>\n",
       "      <td>115.000000</td>\n",
       "      <td>38.000000</td>\n",
       "    </tr>\n",
       "    <tr>\n",
       "      <th>2004.0</th>\n",
       "      <td>1615.000000</td>\n",
       "      <td>2308.000000</td>\n",
       "      <td>211.000000</td>\n",
       "      <td>58.000000</td>\n",
       "      <td>46.000000</td>\n",
       "      <td>271.000000</td>\n",
       "      <td>341.000000</td>\n",
       "      <td>183.000000</td>\n",
       "      <td>81.000000</td>\n",
       "      <td>91.000000</td>\n",
       "      <td>...</td>\n",
       "      <td>113.000000</td>\n",
       "      <td>18.000000</td>\n",
       "      <td>31.000000</td>\n",
       "      <td>54.000000</td>\n",
       "      <td>99.000000</td>\n",
       "      <td>123.000000</td>\n",
       "      <td>156.000000</td>\n",
       "      <td>24.00000</td>\n",
       "      <td>115.000000</td>\n",
       "      <td>42.000000</td>\n",
       "    </tr>\n",
       "    <tr>\n",
       "      <th>2005.0</th>\n",
       "      <td>1782.000000</td>\n",
       "      <td>2320.000000</td>\n",
       "      <td>216.000000</td>\n",
       "      <td>58.000000</td>\n",
       "      <td>45.000000</td>\n",
       "      <td>273.000000</td>\n",
       "      <td>339.000000</td>\n",
       "      <td>187.000000</td>\n",
       "      <td>80.000000</td>\n",
       "      <td>92.000000</td>\n",
       "      <td>...</td>\n",
       "      <td>113.000000</td>\n",
       "      <td>17.000000</td>\n",
       "      <td>32.000000</td>\n",
       "      <td>62.000000</td>\n",
       "      <td>105.000000</td>\n",
       "      <td>118.000000</td>\n",
       "      <td>173.000000</td>\n",
       "      <td>27.00000</td>\n",
       "      <td>123.000000</td>\n",
       "      <td>44.000000</td>\n",
       "    </tr>\n",
       "    <tr>\n",
       "      <th>2006.0</th>\n",
       "      <td>1950.000000</td>\n",
       "      <td>2298.000000</td>\n",
       "      <td>224.000000</td>\n",
       "      <td>57.000000</td>\n",
       "      <td>46.000000</td>\n",
       "      <td>268.000000</td>\n",
       "      <td>349.000000</td>\n",
       "      <td>185.000000</td>\n",
       "      <td>79.000000</td>\n",
       "      <td>97.000000</td>\n",
       "      <td>...</td>\n",
       "      <td>118.000000</td>\n",
       "      <td>17.000000</td>\n",
       "      <td>35.000000</td>\n",
       "      <td>66.000000</td>\n",
       "      <td>106.000000</td>\n",
       "      <td>120.000000</td>\n",
       "      <td>180.000000</td>\n",
       "      <td>25.00000</td>\n",
       "      <td>132.000000</td>\n",
       "      <td>46.000000</td>\n",
       "    </tr>\n",
       "    <tr>\n",
       "      <th>2007.0</th>\n",
       "      <td>2099.000000</td>\n",
       "      <td>2338.000000</td>\n",
       "      <td>236.000000</td>\n",
       "      <td>56.000000</td>\n",
       "      <td>46.000000</td>\n",
       "      <td>265.000000</td>\n",
       "      <td>331.000000</td>\n",
       "      <td>184.000000</td>\n",
       "      <td>79.000000</td>\n",
       "      <td>97.000000</td>\n",
       "      <td>...</td>\n",
       "      <td>121.000000</td>\n",
       "      <td>17.000000</td>\n",
       "      <td>37.000000</td>\n",
       "      <td>70.000000</td>\n",
       "      <td>110.000000</td>\n",
       "      <td>131.000000</td>\n",
       "      <td>191.000000</td>\n",
       "      <td>25.00000</td>\n",
       "      <td>138.000000</td>\n",
       "      <td>50.000000</td>\n",
       "    </tr>\n",
       "    <tr>\n",
       "      <th>2008.0</th>\n",
       "      <td>2155.000000</td>\n",
       "      <td>2278.000000</td>\n",
       "      <td>250.000000</td>\n",
       "      <td>58.000000</td>\n",
       "      <td>45.000000</td>\n",
       "      <td>266.000000</td>\n",
       "      <td>335.000000</td>\n",
       "      <td>182.000000</td>\n",
       "      <td>78.000000</td>\n",
       "      <td>98.000000</td>\n",
       "      <td>...</td>\n",
       "      <td>126.000000</td>\n",
       "      <td>18.000000</td>\n",
       "      <td>37.000000</td>\n",
       "      <td>73.000000</td>\n",
       "      <td>113.000000</td>\n",
       "      <td>142.000000</td>\n",
       "      <td>205.000000</td>\n",
       "      <td>28.00000</td>\n",
       "      <td>151.000000</td>\n",
       "      <td>59.000000</td>\n",
       "    </tr>\n",
       "    <tr>\n",
       "      <th>2009.0</th>\n",
       "      <td>2297.000000</td>\n",
       "      <td>2165.000000</td>\n",
       "      <td>242.000000</td>\n",
       "      <td>56.000000</td>\n",
       "      <td>43.000000</td>\n",
       "      <td>255.000000</td>\n",
       "      <td>313.000000</td>\n",
       "      <td>170.000000</td>\n",
       "      <td>77.000000</td>\n",
       "      <td>94.000000</td>\n",
       "      <td>...</td>\n",
       "      <td>126.000000</td>\n",
       "      <td>18.000000</td>\n",
       "      <td>41.000000</td>\n",
       "      <td>75.000000</td>\n",
       "      <td>111.000000</td>\n",
       "      <td>144.000000</td>\n",
       "      <td>204.000000</td>\n",
       "      <td>29.00000</td>\n",
       "      <td>159.000000</td>\n",
       "      <td>64.000000</td>\n",
       "    </tr>\n",
       "    <tr>\n",
       "      <th>2010.0</th>\n",
       "      <td>2536.000000</td>\n",
       "      <td>2217.000000</td>\n",
       "      <td>267.000000</td>\n",
       "      <td>60.000000</td>\n",
       "      <td>45.000000</td>\n",
       "      <td>263.000000</td>\n",
       "      <td>330.000000</td>\n",
       "      <td>174.000000</td>\n",
       "      <td>83.000000</td>\n",
       "      <td>101.000000</td>\n",
       "      <td>...</td>\n",
       "      <td>126.000000</td>\n",
       "      <td>19.000000</td>\n",
       "      <td>42.000000</td>\n",
       "      <td>74.000000</td>\n",
       "      <td>127.000000</td>\n",
       "      <td>134.000000</td>\n",
       "      <td>204.000000</td>\n",
       "      <td>29.00000</td>\n",
       "      <td>175.000000</td>\n",
       "      <td>61.000000</td>\n",
       "    </tr>\n",
       "    <tr>\n",
       "      <th>2011.0</th>\n",
       "      <td>2723.000000</td>\n",
       "      <td>2191.000000</td>\n",
       "      <td>271.000000</td>\n",
       "      <td>56.000000</td>\n",
       "      <td>43.000000</td>\n",
       "      <td>258.000000</td>\n",
       "      <td>313.000000</td>\n",
       "      <td>168.000000</td>\n",
       "      <td>77.000000</td>\n",
       "      <td>101.000000</td>\n",
       "      <td>...</td>\n",
       "      <td>127.000000</td>\n",
       "      <td>18.000000</td>\n",
       "      <td>43.000000</td>\n",
       "      <td>77.000000</td>\n",
       "      <td>139.000000</td>\n",
       "      <td>137.000000</td>\n",
       "      <td>208.000000</td>\n",
       "      <td>28.00000</td>\n",
       "      <td>184.000000</td>\n",
       "      <td>60.000000</td>\n",
       "    </tr>\n",
       "    <tr>\n",
       "      <th>2012.0</th>\n",
       "      <td>2821.000000</td>\n",
       "      <td>2152.000000</td>\n",
       "      <td>282.000000</td>\n",
       "      <td>53.000000</td>\n",
       "      <td>43.000000</td>\n",
       "      <td>258.000000</td>\n",
       "      <td>315.000000</td>\n",
       "      <td>162.000000</td>\n",
       "      <td>77.000000</td>\n",
       "      <td>98.000000</td>\n",
       "      <td>...</td>\n",
       "      <td>126.000000</td>\n",
       "      <td>19.000000</td>\n",
       "      <td>47.000000</td>\n",
       "      <td>79.000000</td>\n",
       "      <td>140.000000</td>\n",
       "      <td>131.000000</td>\n",
       "      <td>218.000000</td>\n",
       "      <td>29.00000</td>\n",
       "      <td>189.000000</td>\n",
       "      <td>64.000000</td>\n",
       "    </tr>\n",
       "    <tr>\n",
       "      <th>2013.0</th>\n",
       "      <td>2912.000000</td>\n",
       "      <td>2190.000000</td>\n",
       "      <td>294.000000</td>\n",
       "      <td>56.000000</td>\n",
       "      <td>43.000000</td>\n",
       "      <td>259.000000</td>\n",
       "      <td>322.000000</td>\n",
       "      <td>156.000000</td>\n",
       "      <td>75.000000</td>\n",
       "      <td>98.000000</td>\n",
       "      <td>...</td>\n",
       "      <td>127.000000</td>\n",
       "      <td>19.000000</td>\n",
       "      <td>49.000000</td>\n",
       "      <td>78.000000</td>\n",
       "      <td>143.000000</td>\n",
       "      <td>130.000000</td>\n",
       "      <td>222.000000</td>\n",
       "      <td>30.00000</td>\n",
       "      <td>188.000000</td>\n",
       "      <td>68.000000</td>\n",
       "    </tr>\n",
       "    <tr>\n",
       "      <th>2014.0</th>\n",
       "      <td>2966.000000</td>\n",
       "      <td>2216.000000</td>\n",
       "      <td>303.000000</td>\n",
       "      <td>53.000000</td>\n",
       "      <td>42.000000</td>\n",
       "      <td>249.000000</td>\n",
       "      <td>307.000000</td>\n",
       "      <td>147.000000</td>\n",
       "      <td>71.000000</td>\n",
       "      <td>95.000000</td>\n",
       "      <td>...</td>\n",
       "      <td>127.000000</td>\n",
       "      <td>21.000000</td>\n",
       "      <td>54.000000</td>\n",
       "      <td>80.000000</td>\n",
       "      <td>147.000000</td>\n",
       "      <td>138.000000</td>\n",
       "      <td>238.000000</td>\n",
       "      <td>27.00000</td>\n",
       "      <td>207.000000</td>\n",
       "      <td>74.000000</td>\n",
       "    </tr>\n",
       "    <tr>\n",
       "      <th>2015.0</th>\n",
       "      <td>2994.000000</td>\n",
       "      <td>2192.000000</td>\n",
       "      <td>297.000000</td>\n",
       "      <td>52.000000</td>\n",
       "      <td>42.000000</td>\n",
       "      <td>253.000000</td>\n",
       "      <td>309.000000</td>\n",
       "      <td>153.000000</td>\n",
       "      <td>72.000000</td>\n",
       "      <td>96.000000</td>\n",
       "      <td>...</td>\n",
       "      <td>127.000000</td>\n",
       "      <td>21.000000</td>\n",
       "      <td>56.000000</td>\n",
       "      <td>81.000000</td>\n",
       "      <td>145.000000</td>\n",
       "      <td>129.000000</td>\n",
       "      <td>238.000000</td>\n",
       "      <td>33.00000</td>\n",
       "      <td>216.000000</td>\n",
       "      <td>76.000000</td>\n",
       "    </tr>\n",
       "    <tr>\n",
       "      <th>2016.0</th>\n",
       "      <td>2977.000000</td>\n",
       "      <td>2168.000000</td>\n",
       "      <td>287.000000</td>\n",
       "      <td>56.000000</td>\n",
       "      <td>41.000000</td>\n",
       "      <td>248.000000</td>\n",
       "      <td>310.000000</td>\n",
       "      <td>151.000000</td>\n",
       "      <td>74.000000</td>\n",
       "      <td>100.000000</td>\n",
       "      <td>...</td>\n",
       "      <td>127.000000</td>\n",
       "      <td>21.000000</td>\n",
       "      <td>56.000000</td>\n",
       "      <td>88.000000</td>\n",
       "      <td>150.000000</td>\n",
       "      <td>135.000000</td>\n",
       "      <td>246.000000</td>\n",
       "      <td>36.00000</td>\n",
       "      <td>215.000000</td>\n",
       "      <td>79.000000</td>\n",
       "    </tr>\n",
       "    <tr>\n",
       "      <th>2017.0</th>\n",
       "      <td>3070.000000</td>\n",
       "      <td>2161.000000</td>\n",
       "      <td>292.000000</td>\n",
       "      <td>55.000000</td>\n",
       "      <td>43.000000</td>\n",
       "      <td>247.000000</td>\n",
       "      <td>311.000000</td>\n",
       "      <td>154.000000</td>\n",
       "      <td>74.000000</td>\n",
       "      <td>104.000000</td>\n",
       "      <td>...</td>\n",
       "      <td>128.000000</td>\n",
       "      <td>21.000000</td>\n",
       "      <td>57.000000</td>\n",
       "      <td>93.000000</td>\n",
       "      <td>152.000000</td>\n",
       "      <td>136.000000</td>\n",
       "      <td>262.000000</td>\n",
       "      <td>34.00000</td>\n",
       "      <td>219.000000</td>\n",
       "      <td>78.000000</td>\n",
       "    </tr>\n",
       "    <tr>\n",
       "      <th>2018.0</th>\n",
       "      <td>3201.000000</td>\n",
       "      <td>2236.000000</td>\n",
       "      <td>288.000000</td>\n",
       "      <td>53.000000</td>\n",
       "      <td>43.000000</td>\n",
       "      <td>246.000000</td>\n",
       "      <td>302.000000</td>\n",
       "      <td>151.000000</td>\n",
       "      <td>73.000000</td>\n",
       "      <td>106.000000</td>\n",
       "      <td>...</td>\n",
       "      <td>128.000000</td>\n",
       "      <td>20.000000</td>\n",
       "      <td>61.000000</td>\n",
       "      <td>96.000000</td>\n",
       "      <td>160.000000</td>\n",
       "      <td>134.000000</td>\n",
       "      <td>266.000000</td>\n",
       "      <td>34.00000</td>\n",
       "      <td>214.000000</td>\n",
       "      <td>78.000000</td>\n",
       "    </tr>\n",
       "    <tr>\n",
       "      <th>2019.0</th>\n",
       "      <td>3309.000000</td>\n",
       "      <td>2214.000000</td>\n",
       "      <td>293.000000</td>\n",
       "      <td>55.000000</td>\n",
       "      <td>43.000000</td>\n",
       "      <td>243.000000</td>\n",
       "      <td>294.000000</td>\n",
       "      <td>149.000000</td>\n",
       "      <td>72.000000</td>\n",
       "      <td>103.000000</td>\n",
       "      <td>...</td>\n",
       "      <td>129.000000</td>\n",
       "      <td>21.000000</td>\n",
       "      <td>65.000000</td>\n",
       "      <td>97.000000</td>\n",
       "      <td>157.000000</td>\n",
       "      <td>129.000000</td>\n",
       "      <td>269.000000</td>\n",
       "      <td>36.00000</td>\n",
       "      <td>215.000000</td>\n",
       "      <td>83.000000</td>\n",
       "    </tr>\n",
       "    <tr>\n",
       "      <th>2020.0</th>\n",
       "      <td>3381.000000</td>\n",
       "      <td>2046.000000</td>\n",
       "      <td>286.000000</td>\n",
       "      <td>51.000000</td>\n",
       "      <td>39.000000</td>\n",
       "      <td>217.000000</td>\n",
       "      <td>275.000000</td>\n",
       "      <td>137.000000</td>\n",
       "      <td>70.000000</td>\n",
       "      <td>97.000000</td>\n",
       "      <td>...</td>\n",
       "      <td>126.000000</td>\n",
       "      <td>21.000000</td>\n",
       "      <td>59.000000</td>\n",
       "      <td>92.000000</td>\n",
       "      <td>159.000000</td>\n",
       "      <td>124.000000</td>\n",
       "      <td>268.000000</td>\n",
       "      <td>38.00000</td>\n",
       "      <td>209.000000</td>\n",
       "      <td>81.000000</td>\n",
       "    </tr>\n",
       "    <tr>\n",
       "      <th>Average Consumption</th>\n",
       "      <td>1923.322581</td>\n",
       "      <td>2167.451613</td>\n",
       "      <td>223.451613</td>\n",
       "      <td>54.903226</td>\n",
       "      <td>43.258065</td>\n",
       "      <td>251.193548</td>\n",
       "      <td>327.903226</td>\n",
       "      <td>162.903226</td>\n",
       "      <td>74.870968</td>\n",
       "      <td>97.419355</td>\n",
       "      <td>...</td>\n",
       "      <td>112.645161</td>\n",
       "      <td>17.612903</td>\n",
       "      <td>37.258065</td>\n",
       "      <td>60.935484</td>\n",
       "      <td>108.967742</td>\n",
       "      <td>118.193548</td>\n",
       "      <td>169.064516</td>\n",
       "      <td>23.16129</td>\n",
       "      <td>138.387097</td>\n",
       "      <td>49.064516</td>\n",
       "    </tr>\n",
       "  </tbody>\n",
       "</table>\n",
       "<p>32 rows × 44 columns</p>\n",
       "</div>"
      ],
      "text/plain": [
       "                           China  United States      Brazil    Belgium  \\\n",
       "Year                                                                     \n",
       "1990.0                874.000000    1910.000000  141.000000  48.000000   \n",
       "1991.0                848.000000    1925.000000  143.000000  50.000000   \n",
       "1992.0                877.000000    1964.000000  145.000000  51.000000   \n",
       "1993.0                929.000000    1998.000000  148.000000  49.000000   \n",
       "1994.0                973.000000    2036.000000  156.000000  52.000000   \n",
       "1995.0               1045.000000    2063.000000  162.000000  53.000000   \n",
       "1996.0               1074.000000    2108.000000  170.000000  56.000000   \n",
       "1997.0               1073.000000    2130.000000  179.000000  56.000000   \n",
       "1998.0               1079.000000    2148.000000  183.000000  57.000000   \n",
       "1999.0               1099.000000    2206.000000  187.000000  57.000000   \n",
       "2000.0               1130.000000    2269.000000  188.000000  58.000000   \n",
       "2001.0               1168.000000    2226.000000  191.000000  58.000000   \n",
       "2002.0               1246.000000    2256.000000  196.000000  56.000000   \n",
       "2003.0               1420.000000    2262.000000  199.000000  58.000000   \n",
       "2004.0               1615.000000    2308.000000  211.000000  58.000000   \n",
       "2005.0               1782.000000    2320.000000  216.000000  58.000000   \n",
       "2006.0               1950.000000    2298.000000  224.000000  57.000000   \n",
       "2007.0               2099.000000    2338.000000  236.000000  56.000000   \n",
       "2008.0               2155.000000    2278.000000  250.000000  58.000000   \n",
       "2009.0               2297.000000    2165.000000  242.000000  56.000000   \n",
       "2010.0               2536.000000    2217.000000  267.000000  60.000000   \n",
       "2011.0               2723.000000    2191.000000  271.000000  56.000000   \n",
       "2012.0               2821.000000    2152.000000  282.000000  53.000000   \n",
       "2013.0               2912.000000    2190.000000  294.000000  56.000000   \n",
       "2014.0               2966.000000    2216.000000  303.000000  53.000000   \n",
       "2015.0               2994.000000    2192.000000  297.000000  52.000000   \n",
       "2016.0               2977.000000    2168.000000  287.000000  56.000000   \n",
       "2017.0               3070.000000    2161.000000  292.000000  55.000000   \n",
       "2018.0               3201.000000    2236.000000  288.000000  53.000000   \n",
       "2019.0               3309.000000    2214.000000  293.000000  55.000000   \n",
       "2020.0               3381.000000    2046.000000  286.000000  51.000000   \n",
       "Average Consumption  1923.322581    2167.451613  223.451613  54.903226   \n",
       "\n",
       "                       Czechia      France     Germany       Italy  \\\n",
       "Year                                                                 \n",
       "1990.0               50.000000  225.000000  351.000000  147.000000   \n",
       "1991.0               45.000000  237.000000  344.000000  150.000000   \n",
       "1992.0               44.000000  234.000000  338.000000  149.000000   \n",
       "1993.0               43.000000  238.000000  335.000000  149.000000   \n",
       "1994.0               41.000000  231.000000  333.000000  147.000000   \n",
       "1995.0               42.000000  240.000000  336.000000  159.000000   \n",
       "1996.0               43.000000  251.000000  348.000000  159.000000   \n",
       "1997.0               43.000000  244.000000  345.000000  162.000000   \n",
       "1998.0               42.000000  252.000000  343.000000  166.000000   \n",
       "1999.0               39.000000  252.000000  335.000000  169.000000   \n",
       "2000.0               41.000000  255.000000  337.000000  172.000000   \n",
       "2001.0               42.000000  260.000000  347.000000  172.000000   \n",
       "2002.0               43.000000  261.000000  339.000000  174.000000   \n",
       "2003.0               45.000000  268.000000  338.000000  182.000000   \n",
       "2004.0               46.000000  271.000000  341.000000  183.000000   \n",
       "2005.0               45.000000  273.000000  339.000000  187.000000   \n",
       "2006.0               46.000000  268.000000  349.000000  185.000000   \n",
       "2007.0               46.000000  265.000000  331.000000  184.000000   \n",
       "2008.0               45.000000  266.000000  335.000000  182.000000   \n",
       "2009.0               43.000000  255.000000  313.000000  170.000000   \n",
       "2010.0               45.000000  263.000000  330.000000  174.000000   \n",
       "2011.0               43.000000  258.000000  313.000000  168.000000   \n",
       "2012.0               43.000000  258.000000  315.000000  162.000000   \n",
       "2013.0               43.000000  259.000000  322.000000  156.000000   \n",
       "2014.0               42.000000  249.000000  307.000000  147.000000   \n",
       "2015.0               42.000000  253.000000  309.000000  153.000000   \n",
       "2016.0               41.000000  248.000000  310.000000  151.000000   \n",
       "2017.0               43.000000  247.000000  311.000000  154.000000   \n",
       "2018.0               43.000000  246.000000  302.000000  151.000000   \n",
       "2019.0               43.000000  243.000000  294.000000  149.000000   \n",
       "2020.0               39.000000  217.000000  275.000000  137.000000   \n",
       "Average Consumption  43.258065  251.193548  327.903226  162.903226   \n",
       "\n",
       "                     Netherlands      Poland  ...   Australia  New Zealand  \\\n",
       "Year                                          ...                            \n",
       "1990.0                 67.000000  103.000000  ...   86.000000    14.000000   \n",
       "1991.0                 69.000000  101.000000  ...   85.000000    14.000000   \n",
       "1992.0                 69.000000   99.000000  ...   87.000000    14.000000   \n",
       "1993.0                 70.000000  101.000000  ...   91.000000    15.000000   \n",
       "1994.0                 70.000000   96.000000  ...   91.000000    15.000000   \n",
       "1995.0                 73.000000   99.000000  ...   93.000000    15.000000   \n",
       "1996.0                 77.000000  104.000000  ...   99.000000    16.000000   \n",
       "1997.0                 75.000000  102.000000  ...  101.000000    16.000000   \n",
       "1998.0                 75.000000   95.000000  ...  104.000000    16.000000   \n",
       "1999.0                 74.000000   93.000000  ...  106.000000    17.000000   \n",
       "2000.0                 75.000000   89.000000  ...  108.000000    17.000000   \n",
       "2001.0                 77.000000   90.000000  ...  106.000000    17.000000   \n",
       "2002.0                 78.000000   89.000000  ...  109.000000    17.000000   \n",
       "2003.0                 80.000000   91.000000  ...  111.000000    17.000000   \n",
       "2004.0                 81.000000   91.000000  ...  113.000000    18.000000   \n",
       "2005.0                 80.000000   92.000000  ...  113.000000    17.000000   \n",
       "2006.0                 79.000000   97.000000  ...  118.000000    17.000000   \n",
       "2007.0                 79.000000   97.000000  ...  121.000000    17.000000   \n",
       "2008.0                 78.000000   98.000000  ...  126.000000    18.000000   \n",
       "2009.0                 77.000000   94.000000  ...  126.000000    18.000000   \n",
       "2010.0                 83.000000  101.000000  ...  126.000000    19.000000   \n",
       "2011.0                 77.000000  101.000000  ...  127.000000    18.000000   \n",
       "2012.0                 77.000000   98.000000  ...  126.000000    19.000000   \n",
       "2013.0                 75.000000   98.000000  ...  127.000000    19.000000   \n",
       "2014.0                 71.000000   95.000000  ...  127.000000    21.000000   \n",
       "2015.0                 72.000000   96.000000  ...  127.000000    21.000000   \n",
       "2016.0                 74.000000  100.000000  ...  127.000000    21.000000   \n",
       "2017.0                 74.000000  104.000000  ...  128.000000    21.000000   \n",
       "2018.0                 73.000000  106.000000  ...  128.000000    20.000000   \n",
       "2019.0                 72.000000  103.000000  ...  129.000000    21.000000   \n",
       "2020.0                 70.000000   97.000000  ...  126.000000    21.000000   \n",
       "Average Consumption    74.870968   97.419355  ...  112.645161    17.612903   \n",
       "\n",
       "                       Algeria      Egypt     Nigeria  South Africa  \\\n",
       "Year                                                                  \n",
       "1990.0               22.000000  33.000000   66.000000     90.000000   \n",
       "1991.0               23.000000  33.000000   70.000000     92.000000   \n",
       "1992.0               24.000000  34.000000   72.000000     88.000000   \n",
       "1993.0               24.000000  35.000000   74.000000     94.000000   \n",
       "1994.0               23.000000  34.000000   72.000000     98.000000   \n",
       "1995.0               24.000000  36.000000   73.000000    104.000000   \n",
       "1996.0               23.000000  38.000000   76.000000    107.000000   \n",
       "1997.0               24.000000  40.000000   79.000000    109.000000   \n",
       "1998.0               25.000000  42.000000   80.000000    111.000000   \n",
       "1999.0               27.000000  43.000000   83.000000    109.000000   \n",
       "2000.0               27.000000  41.000000   87.000000    109.000000   \n",
       "2001.0               27.000000  47.000000   91.000000    105.000000   \n",
       "2002.0               29.000000  48.000000   94.000000    100.000000   \n",
       "2003.0               31.000000  50.000000   98.000000    113.000000   \n",
       "2004.0               31.000000  54.000000   99.000000    123.000000   \n",
       "2005.0               32.000000  62.000000  105.000000    118.000000   \n",
       "2006.0               35.000000  66.000000  106.000000    120.000000   \n",
       "2007.0               37.000000  70.000000  110.000000    131.000000   \n",
       "2008.0               37.000000  73.000000  113.000000    142.000000   \n",
       "2009.0               41.000000  75.000000  111.000000    144.000000   \n",
       "2010.0               42.000000  74.000000  127.000000    134.000000   \n",
       "2011.0               43.000000  77.000000  139.000000    137.000000   \n",
       "2012.0               47.000000  79.000000  140.000000    131.000000   \n",
       "2013.0               49.000000  78.000000  143.000000    130.000000   \n",
       "2014.0               54.000000  80.000000  147.000000    138.000000   \n",
       "2015.0               56.000000  81.000000  145.000000    129.000000   \n",
       "2016.0               56.000000  88.000000  150.000000    135.000000   \n",
       "2017.0               57.000000  93.000000  152.000000    136.000000   \n",
       "2018.0               61.000000  96.000000  160.000000    134.000000   \n",
       "2019.0               65.000000  97.000000  157.000000    129.000000   \n",
       "2020.0               59.000000  92.000000  159.000000    124.000000   \n",
       "Average Consumption  37.258065  60.935484  108.967742    118.193548   \n",
       "\n",
       "                           Iran    Kuwait  Saudi Arabia  United Arab Emirates  \n",
       "Year                                                                           \n",
       "1990.0                69.000000   9.00000     58.000000             20.000000  \n",
       "1991.0                77.000000   3.00000     68.000000             23.000000  \n",
       "1992.0                81.000000   9.00000     77.000000             22.000000  \n",
       "1993.0                87.000000  12.00000     80.000000             23.000000  \n",
       "1994.0                97.000000  14.00000     84.000000             26.000000  \n",
       "1995.0               101.000000  15.00000     85.000000             28.000000  \n",
       "1996.0                98.000000  14.00000     90.000000             29.000000  \n",
       "1997.0               109.000000  15.00000     86.000000             31.000000  \n",
       "1998.0               111.000000  17.00000     92.000000             32.000000  \n",
       "1999.0               126.000000  18.00000     94.000000             32.000000  \n",
       "2000.0               123.000000  19.00000     98.000000             31.000000  \n",
       "2001.0               133.000000  20.00000    100.000000             40.000000  \n",
       "2002.0               138.000000  20.00000    114.000000             39.000000  \n",
       "2003.0               143.000000  21.00000    115.000000             38.000000  \n",
       "2004.0               156.000000  24.00000    115.000000             42.000000  \n",
       "2005.0               173.000000  27.00000    123.000000             44.000000  \n",
       "2006.0               180.000000  25.00000    132.000000             46.000000  \n",
       "2007.0               191.000000  25.00000    138.000000             50.000000  \n",
       "2008.0               205.000000  28.00000    151.000000             59.000000  \n",
       "2009.0               204.000000  29.00000    159.000000             64.000000  \n",
       "2010.0               204.000000  29.00000    175.000000             61.000000  \n",
       "2011.0               208.000000  28.00000    184.000000             60.000000  \n",
       "2012.0               218.000000  29.00000    189.000000             64.000000  \n",
       "2013.0               222.000000  30.00000    188.000000             68.000000  \n",
       "2014.0               238.000000  27.00000    207.000000             74.000000  \n",
       "2015.0               238.000000  33.00000    216.000000             76.000000  \n",
       "2016.0               246.000000  36.00000    215.000000             79.000000  \n",
       "2017.0               262.000000  34.00000    219.000000             78.000000  \n",
       "2018.0               266.000000  34.00000    214.000000             78.000000  \n",
       "2019.0               269.000000  36.00000    215.000000             83.000000  \n",
       "2020.0               268.000000  38.00000    209.000000             81.000000  \n",
       "Average Consumption  169.064516  23.16129    138.387097             49.064516  \n",
       "\n",
       "[32 rows x 44 columns]"
      ]
     },
     "execution_count": 67,
     "metadata": {},
     "output_type": "execute_result"
    }
   ],
   "source": [
    "#Making DataFrame for Countrywise Consunmption of Energy\n",
    "dataset_02 = pd.read_csv(\"Country_Consumption_TWH.csv\")\n",
    "\n",
    "#Remove NaN values, as they're <7% of the dataset.\n",
    "ds=dataset_02[:31]\n",
    "avg = []\n",
    "sum = 0\n",
    "ds.set_index(\"Year\", drop=True, append=False, inplace=True, verify_integrity=False)\n",
    "for i in ds:\n",
    "    for j in ds[i]:\n",
    "        sum+=j\n",
    "    avg.append(sum/31)\n",
    "    sum=0\n",
    "ds = ds.swapaxes(\"rows\", \"columns\")\n",
    "\n",
    "# Finding the average consumption for outlier detection.\n",
    "ds[\"Average Consumption\"] = avg \n",
    "ds_disp = ds.swapaxes(\"rows\", \"columns\")\n",
    "\n",
    "# Display the DataFrame with average consumption added in.\n",
    "ds_disp "
   ]
  },
  {
   "cell_type": "code",
   "execution_count": 68,
   "id": "3b16e323",
   "metadata": {},
   "outputs": [
    {
     "data": {
      "text/plain": [
       "<AxesSubplot:>"
      ]
     },
     "execution_count": 68,
     "metadata": {},
     "output_type": "execute_result"
    },
    {
     "data": {
      "image/png": "[encoded data removed]",
      "text/plain": [
       "<Figure size 432x288 with 1 Axes>"
      ]
     },
     "metadata": {},
     "output_type": "display_data"
    }
   ],
   "source": [
    "sb.boxplot(data = ds[\"Average Consumption\"], orient = \"h\") # Visualizing outliers."
   ]
  },
  {
   "cell_type": "code",
   "execution_count": 69,
   "id": "e12cf2ac",
   "metadata": {
    "scrolled": true
   },
   "outputs": [
    {
     "data": {
      "text/html": [
       "<div>\n",
       "<style scoped>\n",
       "    .dataframe tbody tr th:only-of-type {\n",
       "        vertical-align: middle;\n",
       "    }\n",
       "\n",
       "    .dataframe tbody tr th {\n",
       "        vertical-align: top;\n",
       "    }\n",
       "\n",
       "    .dataframe thead th {\n",
       "        text-align: right;\n",
       "    }\n",
       "</style>\n",
       "<table border=\"1\" class=\"dataframe\">\n",
       "  <thead>\n",
       "    <tr style=\"text-align: right;\">\n",
       "      <th></th>\n",
       "      <th>Average Consumption</th>\n",
       "      <th>scores</th>\n",
       "      <th>anomaly</th>\n",
       "    </tr>\n",
       "  </thead>\n",
       "  <tbody>\n",
       "    <tr>\n",
       "      <th>China</th>\n",
       "      <td>1923.322581</td>\n",
       "      <td>-0.279970</td>\n",
       "      <td>-1</td>\n",
       "    </tr>\n",
       "    <tr>\n",
       "      <th>United States</th>\n",
       "      <td>2167.451613</td>\n",
       "      <td>-0.306135</td>\n",
       "      <td>-1</td>\n",
       "    </tr>\n",
       "    <tr>\n",
       "      <th>Brazil</th>\n",
       "      <td>223.451613</td>\n",
       "      <td>0.031433</td>\n",
       "      <td>1</td>\n",
       "    </tr>\n",
       "    <tr>\n",
       "      <th>Belgium</th>\n",
       "      <td>54.903226</td>\n",
       "      <td>0.105165</td>\n",
       "      <td>1</td>\n",
       "    </tr>\n",
       "    <tr>\n",
       "      <th>Czechia</th>\n",
       "      <td>43.258065</td>\n",
       "      <td>0.093048</td>\n",
       "      <td>1</td>\n",
       "    </tr>\n",
       "    <tr>\n",
       "      <th>France</th>\n",
       "      <td>251.193548</td>\n",
       "      <td>0.012116</td>\n",
       "      <td>1</td>\n",
       "    </tr>\n",
       "    <tr>\n",
       "      <th>Germany</th>\n",
       "      <td>327.903226</td>\n",
       "      <td>-0.079787</td>\n",
       "      <td>-1</td>\n",
       "    </tr>\n",
       "    <tr>\n",
       "      <th>Italy</th>\n",
       "      <td>162.903226</td>\n",
       "      <td>0.073485</td>\n",
       "      <td>1</td>\n",
       "    </tr>\n",
       "    <tr>\n",
       "      <th>Netherlands</th>\n",
       "      <td>74.870968</td>\n",
       "      <td>0.075290</td>\n",
       "      <td>1</td>\n",
       "    </tr>\n",
       "    <tr>\n",
       "      <th>Poland</th>\n",
       "      <td>97.419355</td>\n",
       "      <td>0.100261</td>\n",
       "      <td>1</td>\n",
       "    </tr>\n",
       "    <tr>\n",
       "      <th>Portugal</th>\n",
       "      <td>22.225806</td>\n",
       "      <td>0.053086</td>\n",
       "      <td>1</td>\n",
       "    </tr>\n",
       "    <tr>\n",
       "      <th>Romania</th>\n",
       "      <td>39.193548</td>\n",
       "      <td>0.085993</td>\n",
       "      <td>1</td>\n",
       "    </tr>\n",
       "    <tr>\n",
       "      <th>Spain</th>\n",
       "      <td>117.838710</td>\n",
       "      <td>0.092524</td>\n",
       "      <td>1</td>\n",
       "    </tr>\n",
       "    <tr>\n",
       "      <th>Sweden</th>\n",
       "      <td>49.258065</td>\n",
       "      <td>0.102566</td>\n",
       "      <td>1</td>\n",
       "    </tr>\n",
       "    <tr>\n",
       "      <th>United Kingdom</th>\n",
       "      <td>204.322581</td>\n",
       "      <td>0.047082</td>\n",
       "      <td>1</td>\n",
       "    </tr>\n",
       "    <tr>\n",
       "      <th>Norway</th>\n",
       "      <td>27.064516</td>\n",
       "      <td>0.078102</td>\n",
       "      <td>1</td>\n",
       "    </tr>\n",
       "    <tr>\n",
       "      <th>Turkey</th>\n",
       "      <td>92.612903</td>\n",
       "      <td>0.103527</td>\n",
       "      <td>1</td>\n",
       "    </tr>\n",
       "    <tr>\n",
       "      <th>Kazakhstan</th>\n",
       "      <td>59.774194</td>\n",
       "      <td>0.109469</td>\n",
       "      <td>1</td>\n",
       "    </tr>\n",
       "    <tr>\n",
       "      <th>Russia</th>\n",
       "      <td>691.677419</td>\n",
       "      <td>-0.165450</td>\n",
       "      <td>-1</td>\n",
       "    </tr>\n",
       "    <tr>\n",
       "      <th>Ukraine</th>\n",
       "      <td>139.064516</td>\n",
       "      <td>0.071295</td>\n",
       "      <td>1</td>\n",
       "    </tr>\n",
       "    <tr>\n",
       "      <th>Uzbekistan</th>\n",
       "      <td>46.774194</td>\n",
       "      <td>0.098285</td>\n",
       "      <td>1</td>\n",
       "    </tr>\n",
       "    <tr>\n",
       "      <th>Argentina</th>\n",
       "      <td>66.064516</td>\n",
       "      <td>0.090802</td>\n",
       "      <td>1</td>\n",
       "    </tr>\n",
       "    <tr>\n",
       "      <th>Canada</th>\n",
       "      <td>259.516129</td>\n",
       "      <td>0.008150</td>\n",
       "      <td>1</td>\n",
       "    </tr>\n",
       "    <tr>\n",
       "      <th>Chile</th>\n",
       "      <td>28.032258</td>\n",
       "      <td>0.079278</td>\n",
       "      <td>1</td>\n",
       "    </tr>\n",
       "    <tr>\n",
       "      <th>Colombia</th>\n",
       "      <td>30.677419</td>\n",
       "      <td>0.079635</td>\n",
       "      <td>1</td>\n",
       "    </tr>\n",
       "    <tr>\n",
       "      <th>Mexico</th>\n",
       "      <td>163.516129</td>\n",
       "      <td>0.072683</td>\n",
       "      <td>1</td>\n",
       "    </tr>\n",
       "    <tr>\n",
       "      <th>Venezuela</th>\n",
       "      <td>56.290323</td>\n",
       "      <td>0.106796</td>\n",
       "      <td>1</td>\n",
       "    </tr>\n",
       "    <tr>\n",
       "      <th>Indonesia</th>\n",
       "      <td>171.741935</td>\n",
       "      <td>0.063170</td>\n",
       "      <td>1</td>\n",
       "    </tr>\n",
       "    <tr>\n",
       "      <th>Japan</th>\n",
       "      <td>476.741935</td>\n",
       "      <td>-0.119598</td>\n",
       "      <td>-1</td>\n",
       "    </tr>\n",
       "    <tr>\n",
       "      <th>Malaysia</th>\n",
       "      <td>61.225806</td>\n",
       "      <td>0.110904</td>\n",
       "      <td>1</td>\n",
       "    </tr>\n",
       "    <tr>\n",
       "      <th>South Korea</th>\n",
       "      <td>212.419355</td>\n",
       "      <td>0.049602</td>\n",
       "      <td>1</td>\n",
       "    </tr>\n",
       "    <tr>\n",
       "      <th>Taiwan</th>\n",
       "      <td>89.032258</td>\n",
       "      <td>0.094738</td>\n",
       "      <td>1</td>\n",
       "    </tr>\n",
       "    <tr>\n",
       "      <th>Thailand</th>\n",
       "      <td>95.612903</td>\n",
       "      <td>0.104238</td>\n",
       "      <td>1</td>\n",
       "    </tr>\n",
       "    <tr>\n",
       "      <th>India</th>\n",
       "      <td>580.000000</td>\n",
       "      <td>-0.126174</td>\n",
       "      <td>-1</td>\n",
       "    </tr>\n",
       "    <tr>\n",
       "      <th>Australia</th>\n",
       "      <td>112.645161</td>\n",
       "      <td>0.087782</td>\n",
       "      <td>1</td>\n",
       "    </tr>\n",
       "    <tr>\n",
       "      <th>New Zealand</th>\n",
       "      <td>17.612903</td>\n",
       "      <td>-0.016824</td>\n",
       "      <td>-1</td>\n",
       "    </tr>\n",
       "    <tr>\n",
       "      <th>Algeria</th>\n",
       "      <td>37.258065</td>\n",
       "      <td>0.083389</td>\n",
       "      <td>1</td>\n",
       "    </tr>\n",
       "    <tr>\n",
       "      <th>Egypt</th>\n",
       "      <td>60.935484</td>\n",
       "      <td>0.110183</td>\n",
       "      <td>1</td>\n",
       "    </tr>\n",
       "    <tr>\n",
       "      <th>Nigeria</th>\n",
       "      <td>108.967742</td>\n",
       "      <td>0.092319</td>\n",
       "      <td>1</td>\n",
       "    </tr>\n",
       "    <tr>\n",
       "      <th>South Africa</th>\n",
       "      <td>118.193548</td>\n",
       "      <td>0.092104</td>\n",
       "      <td>1</td>\n",
       "    </tr>\n",
       "    <tr>\n",
       "      <th>Iran</th>\n",
       "      <td>169.064516</td>\n",
       "      <td>0.068140</td>\n",
       "      <td>1</td>\n",
       "    </tr>\n",
       "    <tr>\n",
       "      <th>Kuwait</th>\n",
       "      <td>23.161290</td>\n",
       "      <td>0.060936</td>\n",
       "      <td>1</td>\n",
       "    </tr>\n",
       "    <tr>\n",
       "      <th>Saudi Arabia</th>\n",
       "      <td>138.387097</td>\n",
       "      <td>0.073688</td>\n",
       "      <td>1</td>\n",
       "    </tr>\n",
       "    <tr>\n",
       "      <th>United Arab Emirates</th>\n",
       "      <td>49.064516</td>\n",
       "      <td>0.103794</td>\n",
       "      <td>1</td>\n",
       "    </tr>\n",
       "  </tbody>\n",
       "</table>\n",
       "</div>"
      ],
      "text/plain": [
       "                      Average Consumption    scores  anomaly\n",
       "China                         1923.322581 -0.279970       -1\n",
       "United States                 2167.451613 -0.306135       -1\n",
       "Brazil                         223.451613  0.031433        1\n",
       "Belgium                         54.903226  0.105165        1\n",
       "Czechia                         43.258065  0.093048        1\n",
       "France                         251.193548  0.012116        1\n",
       "Germany                        327.903226 -0.079787       -1\n",
       "Italy                          162.903226  0.073485        1\n",
       "Netherlands                     74.870968  0.075290        1\n",
       "Poland                          97.419355  0.100261        1\n",
       "Portugal                        22.225806  0.053086        1\n",
       "Romania                         39.193548  0.085993        1\n",
       "Spain                          117.838710  0.092524        1\n",
       "Sweden                          49.258065  0.102566        1\n",
       "United Kingdom                 204.322581  0.047082        1\n",
       "Norway                          27.064516  0.078102        1\n",
       "Turkey                          92.612903  0.103527        1\n",
       "Kazakhstan                      59.774194  0.109469        1\n",
       "Russia                         691.677419 -0.165450       -1\n",
       "Ukraine                        139.064516  0.071295        1\n",
       "Uzbekistan                      46.774194  0.098285        1\n",
       "Argentina                       66.064516  0.090802        1\n",
       "Canada                         259.516129  0.008150        1\n",
       "Chile                           28.032258  0.079278        1\n",
       "Colombia                        30.677419  0.079635        1\n",
       "Mexico                         163.516129  0.072683        1\n",
       "Venezuela                       56.290323  0.106796        1\n",
       "Indonesia                      171.741935  0.063170        1\n",
       "Japan                          476.741935 -0.119598       -1\n",
       "Malaysia                        61.225806  0.110904        1\n",
       "South Korea                    212.419355  0.049602        1\n",
       "Taiwan                          89.032258  0.094738        1\n",
       "Thailand                        95.612903  0.104238        1\n",
       "India                          580.000000 -0.126174       -1\n",
       "Australia                      112.645161  0.087782        1\n",
       "New Zealand                     17.612903 -0.016824       -1\n",
       "Algeria                         37.258065  0.083389        1\n",
       "Egypt                           60.935484  0.110183        1\n",
       "Nigeria                        108.967742  0.092319        1\n",
       "South Africa                   118.193548  0.092104        1\n",
       "Iran                           169.064516  0.068140        1\n",
       "Kuwait                          23.161290  0.060936        1\n",
       "Saudi Arabia                   138.387097  0.073688        1\n",
       "United Arab Emirates            49.064516  0.103794        1"
      ]
     },
     "execution_count": 69,
     "metadata": {},
     "output_type": "execute_result"
    }
   ],
   "source": [
    "from sklearn.ensemble import IsolationForest # Import IsolationForest for anomaly detection.\n",
    "\n",
    "df = pd.DataFrame(ds['Average Consumption'])\n",
    "model = IsolationForest(n_estimators=100, max_samples='auto', max_features=1.0)\n",
    "model.fit(df[['Average Consumption']]) # Fit the model.\n",
    "df['scores']=model.decision_function(df[['Average Consumption']])\n",
    "df['anomaly']=model.predict(df[['Average Consumption']])\n",
    "df"
   ]
  },
  {
   "cell_type": "code",
   "execution_count": 70,
   "id": "611f68b7",
   "metadata": {},
   "outputs": [
    {
     "name": "stdout",
     "output_type": "stream",
     "text": [
      "                      Average Consumption    scores  anomaly  \\\n",
      "China                         1923.322581 -0.279970       -1   \n",
      "United States                 2167.451613 -0.306135       -1   \n",
      "Brazil                         223.451613  0.031433        1   \n",
      "Belgium                         54.903226  0.105165        1   \n",
      "Czechia                         43.258065  0.093048        1   \n",
      "France                         251.193548  0.012116        1   \n",
      "Germany                        327.903226 -0.079787       -1   \n",
      "Italy                          162.903226  0.073485        1   \n",
      "Netherlands                     74.870968  0.075290        1   \n",
      "Poland                          97.419355  0.100261        1   \n",
      "Portugal                        22.225806  0.053086        1   \n",
      "Romania                         39.193548  0.085993        1   \n",
      "Spain                          117.838710  0.092524        1   \n",
      "Sweden                          49.258065  0.102566        1   \n",
      "United Kingdom                 204.322581  0.047082        1   \n",
      "Norway                          27.064516  0.078102        1   \n",
      "Turkey                          92.612903  0.103527        1   \n",
      "Kazakhstan                      59.774194  0.109469        1   \n",
      "Russia                         691.677419 -0.165450       -1   \n",
      "Ukraine                        139.064516  0.071295        1   \n",
      "Uzbekistan                      46.774194  0.098285        1   \n",
      "Argentina                       66.064516  0.090802        1   \n",
      "Canada                         259.516129  0.008150        1   \n",
      "Chile                           28.032258  0.079278        1   \n",
      "Colombia                        30.677419  0.079635        1   \n",
      "Mexico                         163.516129  0.072683        1   \n",
      "Venezuela                       56.290323  0.106796        1   \n",
      "Indonesia                      171.741935  0.063170        1   \n",
      "Japan                          476.741935 -0.119598       -1   \n",
      "Malaysia                        61.225806  0.110904        1   \n",
      "South Korea                    212.419355  0.049602        1   \n",
      "Taiwan                          89.032258  0.094738        1   \n",
      "Thailand                        95.612903  0.104238        1   \n",
      "India                          580.000000 -0.126174       -1   \n",
      "Australia                      112.645161  0.087782        1   \n",
      "New Zealand                     17.612903 -0.016824       -1   \n",
      "Algeria                         37.258065  0.083389        1   \n",
      "Egypt                           60.935484  0.110183        1   \n",
      "Nigeria                        108.967742  0.092319        1   \n",
      "South Africa                   118.193548  0.092104        1   \n",
      "Iran                           169.064516  0.068140        1   \n",
      "Kuwait                          23.161290  0.060936        1   \n",
      "Saudi Arabia                   138.387097  0.073688        1   \n",
      "United Arab Emirates            49.064516  0.103794        1   \n",
      "\n",
      "                                   Country  \n",
      "China                                China  \n",
      "United States                United States  \n",
      "Brazil                              Brazil  \n",
      "Belgium                            Belgium  \n",
      "Czechia                            Czechia  \n",
      "France                              France  \n",
      "Germany                            Germany  \n",
      "Italy                                Italy  \n",
      "Netherlands                    Netherlands  \n",
      "Poland                              Poland  \n",
      "Portugal                          Portugal  \n",
      "Romania                            Romania  \n",
      "Spain                                Spain  \n",
      "Sweden                              Sweden  \n",
      "United Kingdom              United Kingdom  \n",
      "Norway                              Norway  \n",
      "Turkey                              Turkey  \n",
      "Kazakhstan                      Kazakhstan  \n",
      "Russia                              Russia  \n",
      "Ukraine                            Ukraine  \n",
      "Uzbekistan                      Uzbekistan  \n",
      "Argentina                        Argentina  \n",
      "Canada                              Canada  \n",
      "Chile                                Chile  \n",
      "Colombia                          Colombia  \n",
      "Mexico                              Mexico  \n",
      "Venezuela                        Venezuela  \n",
      "Indonesia                        Indonesia  \n",
      "Japan                                Japan  \n",
      "Malaysia                          Malaysia  \n",
      "South Korea                    South Korea  \n",
      "Taiwan                              Taiwan  \n",
      "Thailand                          Thailand  \n",
      "India                                India  \n",
      "Australia                        Australia  \n",
      "New Zealand                    New Zealand  \n",
      "Algeria                            Algeria  \n",
      "Egypt                                Egypt  \n",
      "Nigeria                            Nigeria  \n",
      "South Africa                  South Africa  \n",
      "Iran                                  Iran  \n",
      "Kuwait                              Kuwait  \n",
      "Saudi Arabia                  Saudi Arabia  \n",
      "United Arab Emirates  United Arab Emirates  \n"
     ]
    }
   ],
   "source": [
    "#Adding Country as the index in the DataFrame\n",
    "df['Country'] = df.index\n",
    "print(df)"
   ]
  },
  {
   "cell_type": "code",
   "execution_count": 71,
   "id": "a43fe5ec",
   "metadata": {},
   "outputs": [],
   "source": [
    "def tort_display(datasetName, colName):\n",
    "    datasetName = datasetName.sort_values(by=[colName], ascending=False)\n",
    "    datasetName.head()\n",
    "    \n",
    "    datasetName.plot(figsize=(20, 10))\n",
    "    plt.xticks(rotation=90)\n",
    "    sb.barplot(data=datasetName, x=datasetName[\"Country\"], y=datasetName[colName])\n",
    "    "
   ]
  },
  {
   "cell_type": "code",
   "execution_count": 72,
   "id": "48bc2af7",
   "metadata": {},
   "outputs": [
    {
     "data": {
      "text/html": [
       "<div>\n",
       "<style scoped>\n",
       "    .dataframe tbody tr th:only-of-type {\n",
       "        vertical-align: middle;\n",
       "    }\n",
       "\n",
       "    .dataframe tbody tr th {\n",
       "        vertical-align: top;\n",
       "    }\n",
       "\n",
       "    .dataframe thead th {\n",
       "        text-align: right;\n",
       "    }\n",
       "</style>\n",
       "<table border=\"1\" class=\"dataframe\">\n",
       "  <thead>\n",
       "    <tr style=\"text-align: right;\">\n",
       "      <th></th>\n",
       "      <th>Average Consumption</th>\n",
       "      <th>scores</th>\n",
       "      <th>anomaly</th>\n",
       "      <th>Country</th>\n",
       "    </tr>\n",
       "  </thead>\n",
       "  <tbody>\n",
       "    <tr>\n",
       "      <th>China</th>\n",
       "      <td>1923.322581</td>\n",
       "      <td>-0.279970</td>\n",
       "      <td>-1</td>\n",
       "      <td>China</td>\n",
       "    </tr>\n",
       "    <tr>\n",
       "      <th>United States</th>\n",
       "      <td>2167.451613</td>\n",
       "      <td>-0.306135</td>\n",
       "      <td>-1</td>\n",
       "      <td>United States</td>\n",
       "    </tr>\n",
       "    <tr>\n",
       "      <th>Germany</th>\n",
       "      <td>327.903226</td>\n",
       "      <td>-0.079787</td>\n",
       "      <td>-1</td>\n",
       "      <td>Germany</td>\n",
       "    </tr>\n",
       "    <tr>\n",
       "      <th>Russia</th>\n",
       "      <td>691.677419</td>\n",
       "      <td>-0.165450</td>\n",
       "      <td>-1</td>\n",
       "      <td>Russia</td>\n",
       "    </tr>\n",
       "    <tr>\n",
       "      <th>Japan</th>\n",
       "      <td>476.741935</td>\n",
       "      <td>-0.119598</td>\n",
       "      <td>-1</td>\n",
       "      <td>Japan</td>\n",
       "    </tr>\n",
       "    <tr>\n",
       "      <th>India</th>\n",
       "      <td>580.000000</td>\n",
       "      <td>-0.126174</td>\n",
       "      <td>-1</td>\n",
       "      <td>India</td>\n",
       "    </tr>\n",
       "    <tr>\n",
       "      <th>New Zealand</th>\n",
       "      <td>17.612903</td>\n",
       "      <td>-0.016824</td>\n",
       "      <td>-1</td>\n",
       "      <td>New Zealand</td>\n",
       "    </tr>\n",
       "  </tbody>\n",
       "</table>\n",
       "</div>"
      ],
      "text/plain": [
       "               Average Consumption    scores  anomaly        Country\n",
       "China                  1923.322581 -0.279970       -1          China\n",
       "United States          2167.451613 -0.306135       -1  United States\n",
       "Germany                 327.903226 -0.079787       -1        Germany\n",
       "Russia                  691.677419 -0.165450       -1         Russia\n",
       "Japan                   476.741935 -0.119598       -1          Japan\n",
       "India                   580.000000 -0.126174       -1          India\n",
       "New Zealand              17.612903 -0.016824       -1    New Zealand"
      ]
     },
     "execution_count": 72,
     "metadata": {},
     "output_type": "execute_result"
    }
   ],
   "source": [
    "#Segregating countries based on Anomalous Consumption\n",
    "anomaly=df.loc[df['anomaly']==-1]\n",
    "anomaly_index=list(anomaly.index)\n",
    "anomaly # Print outliers"
   ]
  },
  {
   "cell_type": "code",
   "execution_count": 73,
   "id": "f8f53f88",
   "metadata": {},
   "outputs": [
    {
     "data": {
      "image/png": "[encoded data removed]",
      "text/plain": [
       "<Figure size 1440x720 with 1 Axes>"
      ]
     },
     "metadata": {},
     "output_type": "display_data"
    }
   ],
   "source": [
    "tort_display(df, 'Average Consumption')"
   ]
  },
  {
   "cell_type": "markdown",
   "id": "010aa682",
   "metadata": {},
   "source": [
    "Here, we see that New Zealand is an anomaly because of its unusually low consumption. However, for the purposes of this project, we need to find those countries that consume energy the most (not the least). Thus, we remove New Zealand from the DataFrame of outliers in the next cell."
   ]
  },
  {
   "cell_type": "code",
   "execution_count": 74,
   "id": "781179f0",
   "metadata": {},
   "outputs": [
    {
     "data": {
      "text/html": [
       "<div>\n",
       "<style scoped>\n",
       "    .dataframe tbody tr th:only-of-type {\n",
       "        vertical-align: middle;\n",
       "    }\n",
       "\n",
       "    .dataframe tbody tr th {\n",
       "        vertical-align: top;\n",
       "    }\n",
       "\n",
       "    .dataframe thead th {\n",
       "        text-align: right;\n",
       "    }\n",
       "</style>\n",
       "<table border=\"1\" class=\"dataframe\">\n",
       "  <thead>\n",
       "    <tr style=\"text-align: right;\">\n",
       "      <th></th>\n",
       "      <th>Average Consumption</th>\n",
       "      <th>scores</th>\n",
       "      <th>anomaly</th>\n",
       "      <th>Country</th>\n",
       "    </tr>\n",
       "  </thead>\n",
       "  <tbody>\n",
       "    <tr>\n",
       "      <th>China</th>\n",
       "      <td>1923.322581</td>\n",
       "      <td>-0.27997</td>\n",
       "      <td>-1</td>\n",
       "      <td>China</td>\n",
       "    </tr>\n",
       "    <tr>\n",
       "      <th>United States</th>\n",
       "      <td>2167.451613</td>\n",
       "      <td>-0.306135</td>\n",
       "      <td>-1</td>\n",
       "      <td>United States</td>\n",
       "    </tr>\n",
       "    <tr>\n",
       "      <th>Germany</th>\n",
       "      <td>327.903226</td>\n",
       "      <td>-0.079787</td>\n",
       "      <td>-1</td>\n",
       "      <td>Germany</td>\n",
       "    </tr>\n",
       "    <tr>\n",
       "      <th>Russia</th>\n",
       "      <td>691.677419</td>\n",
       "      <td>-0.16545</td>\n",
       "      <td>-1</td>\n",
       "      <td>Russia</td>\n",
       "    </tr>\n",
       "    <tr>\n",
       "      <th>Japan</th>\n",
       "      <td>476.741935</td>\n",
       "      <td>-0.119598</td>\n",
       "      <td>-1</td>\n",
       "      <td>Japan</td>\n",
       "    </tr>\n",
       "    <tr>\n",
       "      <th>India</th>\n",
       "      <td>580.0</td>\n",
       "      <td>-0.126174</td>\n",
       "      <td>-1</td>\n",
       "      <td>India</td>\n",
       "    </tr>\n",
       "  </tbody>\n",
       "</table>\n",
       "</div>"
      ],
      "text/plain": [
       "              Average Consumption    scores anomaly        Country\n",
       "China                 1923.322581  -0.27997      -1          China\n",
       "United States         2167.451613 -0.306135      -1  United States\n",
       "Germany                327.903226 -0.079787      -1        Germany\n",
       "Russia                 691.677419  -0.16545      -1         Russia\n",
       "Japan                  476.741935 -0.119598      -1          Japan\n",
       "India                       580.0 -0.126174      -1          India"
      ]
     },
     "execution_count": 74,
     "metadata": {},
     "output_type": "execute_result"
    }
   ],
   "source": [
    "anomaly = anomaly.swapaxes(\"rows\", \"columns\")\n",
    "del anomaly[\"New Zealand\"]\n",
    "anomaly = anomaly.swapaxes(\"rows\", \"columns\")\n",
    "anomaly # DataFrame of countries that consumed the most energy (renewable + non-renewable) on average from 1990 to 2020."
   ]
  },
  {
   "cell_type": "code",
   "execution_count": 75,
   "id": "d561a34a",
   "metadata": {},
   "outputs": [
    {
     "data": {
      "application/vnd.plotly.v1+json": {
       "config": {
        "plotlyServerURL": "https://plot.ly"
       },
       "data": [
        {
         "alignmentgroup": "True",
         "bingroup": "x",
         "hovertemplate": "Status=outlier<br>scores=%{x}<br>count=%{y}<extra></extra>",
         "legendgroup": "outlier",
         "marker": {
          "color": "#636efa",
          "pattern": {
           "shape": ""
          }
         },
         "name": "outlier",
         "offsetgroup": "outlier",
         "orientation": "v",
         "showlegend": true,
         "type": "histogram",
         "x": [
          -0.27997025444122847,
          -0.30613527808679464,
          -0.07978726751606413,
          -0.1654500475400884,
          -0.11959753834397813,
          -0.12617356868020113,
          -0.016823761404493487
         ],
         "xaxis": "x",
         "yaxis": "y"
        },
        {
         "alignmentgroup": "True",
         "bingroup": "x",
         "hovertemplate": "Status=inlier<br>scores=%{x}<br>count=%{y}<extra></extra>",
         "legendgroup": "inlier",
         "marker": {
          "color": "#EF553B",
          "pattern": {
           "shape": ""
          }
         },
         "name": "inlier",
         "offsetgroup": "inlier",
         "orientation": "v",
         "showlegend": true,
         "type": "histogram",
         "x": [
          0.031433194618674554,
          0.10516499626271464,
          0.09304816973940433,
          0.012115895014691291,
          0.07348468597165819,
          0.07529046894179037,
          0.10026080528235776,
          0.05308630957156424,
          0.08599325398025037,
          0.09252396980458194,
          0.10256644667958176,
          0.04708223433220149,
          0.07810161114880904,
          0.10352714028516435,
          0.10946937235693915,
          0.07129536158059663,
          0.09828513694250818,
          0.09080216897201981,
          0.008149959909626803,
          0.07927809587344192,
          0.07963498093422944,
          0.0726827578777855,
          0.10679582077329669,
          0.06317026967117761,
          0.11090359571118247,
          0.04960177937277044,
          0.09473782927730845,
          0.10423822317880327,
          0.08778183212365842,
          0.08338920137817513,
          0.1101833331771847,
          0.09231872237413091,
          0.09210359714858962,
          0.06814036826374892,
          0.06093631631053131,
          0.07368772331393764,
          0.10379395010467563
         ],
         "xaxis": "x",
         "yaxis": "y"
        }
       ],
       "layout": {
        "barmode": "relative",
        "legend": {
         "title": {
          "text": "Status"
         },
         "tracegroupgap": 0
        },
        "margin": {
         "t": 60
        },
        "template": {
         "data": {
          "bar": [
           {
            "error_x": {
             "color": "#2a3f5f"
            },
            "error_y": {
             "color": "#2a3f5f"
            },
            "marker": {
             "line": {
              "color": "#E5ECF6",
              "width": 0.5
             },
             "pattern": {
              "fillmode": "overlay",
              "size": 10,
              "solidity": 0.2
             }
            },
            "type": "bar"
           }
          ],
          "barpolar": [
           {
            "marker": {
             "line": {
              "color": "#E5ECF6",
              "width": 0.5
             },
             "pattern": {
              "fillmode": "overlay",
              "size": 10,
              "solidity": 0.2
             }
            },
            "type": "barpolar"
           }
          ],
          "carpet": [
           {
            "aaxis": {
             "endlinecolor": "#2a3f5f",
             "gridcolor": "white",
             "linecolor": "white",
             "minorgridcolor": "white",
             "startlinecolor": "#2a3f5f"
            },
            "baxis": {
             "endlinecolor": "#2a3f5f",
             "gridcolor": "white",
             "linecolor": "white",
             "minorgridcolor": "white",
             "startlinecolor": "#2a3f5f"
            },
            "type": "carpet"
           }
          ],
          "choropleth": [
           {
            "colorbar": {
             "outlinewidth": 0,
             "ticks": ""
            },
            "type": "choropleth"
           }
          ],
          "contour": [
           {
            "colorbar": {
             "outlinewidth": 0,
             "ticks": ""
            },
            "colorscale": [
             [
              0,
              "#0d0887"
             ],
             [
              0.1111111111111111,
              "#46039f"
             ],
             [
              0.2222222222222222,
              "#7201a8"
             ],
             [
              0.3333333333333333,
              "#9c179e"
             ],
             [
              0.4444444444444444,
              "#bd3786"
             ],
             [
              0.5555555555555556,
              "#d8576b"
             ],
             [
              0.6666666666666666,
              "#ed7953"
             ],
             [
              0.7777777777777778,
              "#fb9f3a"
             ],
             [
              0.8888888888888888,
              "#fdca26"
             ],
             [
              1,
              "#f0f921"
             ]
            ],
            "type": "contour"
           }
          ],
          "contourcarpet": [
           {
            "colorbar": {
             "outlinewidth": 0,
             "ticks": ""
            },
            "type": "contourcarpet"
           }
          ],
          "heatmap": [
           {
            "colorbar": {
             "outlinewidth": 0,
             "ticks": ""
            },
            "colorscale": [
             [
              0,
              "#0d0887"
             ],
             [
              0.1111111111111111,
              "#46039f"
             ],
             [
              0.2222222222222222,
              "#7201a8"
             ],
             [
              0.3333333333333333,
              "#9c179e"
             ],
             [
              0.4444444444444444,
              "#bd3786"
             ],
             [
              0.5555555555555556,
              "#d8576b"
             ],
             [
              0.6666666666666666,
              "#ed7953"
             ],
             [
              0.7777777777777778,
              "#fb9f3a"
             ],
             [
              0.8888888888888888,
              "#fdca26"
             ],
             [
              1,
              "#f0f921"
             ]
            ],
            "type": "heatmap"
           }
          ],
          "heatmapgl": [
           {
            "colorbar": {
             "outlinewidth": 0,
             "ticks": ""
            },
            "colorscale": [
             [
              0,
              "#0d0887"
             ],
             [
              0.1111111111111111,
              "#46039f"
             ],
             [
              0.2222222222222222,
              "#7201a8"
             ],
             [
              0.3333333333333333,
              "#9c179e"
             ],
             [
              0.4444444444444444,
              "#bd3786"
             ],
             [
              0.5555555555555556,
              "#d8576b"
             ],
             [
              0.6666666666666666,
              "#ed7953"
             ],
             [
              0.7777777777777778,
              "#fb9f3a"
             ],
             [
              0.8888888888888888,
              "#fdca26"
             ],
             [
              1,
              "#f0f921"
             ]
            ],
            "type": "heatmapgl"
           }
          ],
          "histogram": [
           {
            "marker": {
             "pattern": {
              "fillmode": "overlay",
              "size": 10,
              "solidity": 0.2
             }
            },
            "type": "histogram"
           }
          ],
          "histogram2d": [
           {
            "colorbar": {
             "outlinewidth": 0,
             "ticks": ""
            },
            "colorscale": [
             [
              0,
              "#0d0887"
             ],
             [
              0.1111111111111111,
              "#46039f"
             ],
             [
              0.2222222222222222,
              "#7201a8"
             ],
             [
              0.3333333333333333,
              "#9c179e"
             ],
             [
              0.4444444444444444,
              "#bd3786"
             ],
             [
              0.5555555555555556,
              "#d8576b"
             ],
             [
              0.6666666666666666,
              "#ed7953"
             ],
             [
              0.7777777777777778,
              "#fb9f3a"
             ],
             [
              0.8888888888888888,
              "#fdca26"
             ],
             [
              1,
              "#f0f921"
             ]
            ],
            "type": "histogram2d"
           }
          ],
          "histogram2dcontour": [
           {
            "colorbar": {
             "outlinewidth": 0,
             "ticks": ""
            },
            "colorscale": [
             [
              0,
              "#0d0887"
             ],
             [
              0.1111111111111111,
              "#46039f"
             ],
             [
              0.2222222222222222,
              "#7201a8"
             ],
             [
              0.3333333333333333,
              "#9c179e"
             ],
             [
              0.4444444444444444,
              "#bd3786"
             ],
             [
              0.5555555555555556,
              "#d8576b"
             ],
             [
              0.6666666666666666,
              "#ed7953"
             ],
             [
              0.7777777777777778,
              "#fb9f3a"
             ],
             [
              0.8888888888888888,
              "#fdca26"
             ],
             [
              1,
              "#f0f921"
             ]
            ],
            "type": "histogram2dcontour"
           }
          ],
          "mesh3d": [
           {
            "colorbar": {
             "outlinewidth": 0,
             "ticks": ""
            },
            "type": "mesh3d"
           }
          ],
          "parcoords": [
           {
            "line": {
             "colorbar": {
              "outlinewidth": 0,
              "ticks": ""
             }
            },
            "type": "parcoords"
           }
          ],
          "pie": [
           {
            "automargin": true,
            "type": "pie"
           }
          ],
          "scatter": [
           {
            "fillpattern": {
             "fillmode": "overlay",
             "size": 10,
             "solidity": 0.2
            },
            "type": "scatter"
           }
          ],
          "scatter3d": [
           {
            "line": {
             "colorbar": {
              "outlinewidth": 0,
              "ticks": ""
             }
            },
            "marker": {
             "colorbar": {
              "outlinewidth": 0,
              "ticks": ""
             }
            },
            "type": "scatter3d"
           }
          ],
          "scattercarpet": [
           {
            "marker": {
             "colorbar": {
              "outlinewidth": 0,
              "ticks": ""
             }
            },
            "type": "scattercarpet"
           }
          ],
          "scattergeo": [
           {
            "marker": {
             "colorbar": {
              "outlinewidth": 0,
              "ticks": ""
             }
            },
            "type": "scattergeo"
           }
          ],
          "scattergl": [
           {
            "marker": {
             "colorbar": {
              "outlinewidth": 0,
              "ticks": ""
             }
            },
            "type": "scattergl"
           }
          ],
          "scattermapbox": [
           {
            "marker": {
             "colorbar": {
              "outlinewidth": 0,
              "ticks": ""
             }
            },
            "type": "scattermapbox"
           }
          ],
          "scatterpolar": [
           {
            "marker": {
             "colorbar": {
              "outlinewidth": 0,
              "ticks": ""
             }
            },
            "type": "scatterpolar"
           }
          ],
          "scatterpolargl": [
           {
            "marker": {
             "colorbar": {
              "outlinewidth": 0,
              "ticks": ""
             }
            },
            "type": "scatterpolargl"
           }
          ],
          "scatterternary": [
           {
            "marker": {
             "colorbar": {
              "outlinewidth": 0,
              "ticks": ""
             }
            },
            "type": "scatterternary"
           }
          ],
          "surface": [
           {
            "colorbar": {
             "outlinewidth": 0,
             "ticks": ""
            },
            "colorscale": [
             [
              0,
              "#0d0887"
             ],
             [
              0.1111111111111111,
              "#46039f"
             ],
             [
              0.2222222222222222,
              "#7201a8"
             ],
             [
              0.3333333333333333,
              "#9c179e"
             ],
             [
              0.4444444444444444,
              "#bd3786"
             ],
             [
              0.5555555555555556,
              "#d8576b"
             ],
             [
              0.6666666666666666,
              "#ed7953"
             ],
             [
              0.7777777777777778,
              "#fb9f3a"
             ],
             [
              0.8888888888888888,
              "#fdca26"
             ],
             [
              1,
              "#f0f921"
             ]
            ],
            "type": "surface"
           }
          ],
          "table": [
           {
            "cells": {
             "fill": {
              "color": "#EBF0F8"
             },
             "line": {
              "color": "white"
             }
            },
            "header": {
             "fill": {
              "color": "#C8D4E3"
             },
             "line": {
              "color": "white"
             }
            },
            "type": "table"
           }
          ]
         },
         "layout": {
          "annotationdefaults": {
           "arrowcolor": "#2a3f5f",
           "arrowhead": 0,
           "arrowwidth": 1
          },
          "autotypenumbers": "strict",
          "coloraxis": {
           "colorbar": {
            "outlinewidth": 0,
            "ticks": ""
           }
          },
          "colorscale": {
           "diverging": [
            [
             0,
             "#8e0152"
            ],
            [
             0.1,
             "#c51b7d"
            ],
            [
             0.2,
             "#de77ae"
            ],
            [
             0.3,
             "#f1b6da"
            ],
            [
             0.4,
             "#fde0ef"
            ],
            [
             0.5,
             "#f7f7f7"
            ],
            [
             0.6,
             "#e6f5d0"
            ],
            [
             0.7,
             "#b8e186"
            ],
            [
             0.8,
             "#7fbc41"
            ],
            [
             0.9,
             "#4d9221"
            ],
            [
             1,
             "#276419"
            ]
           ],
           "sequential": [
            [
             0,
             "#0d0887"
            ],
            [
             0.1111111111111111,
             "#46039f"
            ],
            [
             0.2222222222222222,
             "#7201a8"
            ],
            [
             0.3333333333333333,
             "#9c179e"
            ],
            [
             0.4444444444444444,
             "#bd3786"
            ],
            [
             0.5555555555555556,
             "#d8576b"
            ],
            [
             0.6666666666666666,
             "#ed7953"
            ],
            [
             0.7777777777777778,
             "#fb9f3a"
            ],
            [
             0.8888888888888888,
             "#fdca26"
            ],
            [
             1,
             "#f0f921"
            ]
           ],
           "sequentialminus": [
            [
             0,
             "#0d0887"
            ],
            [
             0.1111111111111111,
             "#46039f"
            ],
            [
             0.2222222222222222,
             "#7201a8"
            ],
            [
             0.3333333333333333,
             "#9c179e"
            ],
            [
             0.4444444444444444,
             "#bd3786"
            ],
            [
             0.5555555555555556,
             "#d8576b"
            ],
            [
             0.6666666666666666,
             "#ed7953"
            ],
            [
             0.7777777777777778,
             "#fb9f3a"
            ],
            [
             0.8888888888888888,
             "#fdca26"
            ],
            [
             1,
             "#f0f921"
            ]
           ]
          },
          "colorway": [
           "#636efa",
           "#EF553B",
           "#00cc96",
           "#ab63fa",
           "#FFA15A",
           "#19d3f3",
           "#FF6692",
           "#B6E880",
           "#FF97FF",
           "#FECB52"
          ],
          "font": {
           "color": "#2a3f5f"
          },
          "geo": {
           "bgcolor": "white",
           "lakecolor": "white",
           "landcolor": "#E5ECF6",
           "showlakes": true,
           "showland": true,
           "subunitcolor": "white"
          },
          "hoverlabel": {
           "align": "left"
          },
          "hovermode": "closest",
          "mapbox": {
           "style": "light"
          },
          "paper_bgcolor": "white",
          "plot_bgcolor": "#E5ECF6",
          "polar": {
           "angularaxis": {
            "gridcolor": "white",
            "linecolor": "white",
            "ticks": ""
           },
           "bgcolor": "#E5ECF6",
           "radialaxis": {
            "gridcolor": "white",
            "linecolor": "white",
            "ticks": ""
           }
          },
          "scene": {
           "xaxis": {
            "backgroundcolor": "#E5ECF6",
            "gridcolor": "white",
            "gridwidth": 2,
            "linecolor": "white",
            "showbackground": true,
            "ticks": "",
            "zerolinecolor": "white"
           },
           "yaxis": {
            "backgroundcolor": "#E5ECF6",
            "gridcolor": "white",
            "gridwidth": 2,
            "linecolor": "white",
            "showbackground": true,
            "ticks": "",
            "zerolinecolor": "white"
           },
           "zaxis": {
            "backgroundcolor": "#E5ECF6",
            "gridcolor": "white",
            "gridwidth": 2,
            "linecolor": "white",
            "showbackground": true,
            "ticks": "",
            "zerolinecolor": "white"
           }
          },
          "shapedefaults": {
           "line": {
            "color": "#2a3f5f"
           }
          },
          "ternary": {
           "aaxis": {
            "gridcolor": "white",
            "linecolor": "white",
            "ticks": ""
           },
           "baxis": {
            "gridcolor": "white",
            "linecolor": "white",
            "ticks": ""
           },
           "bgcolor": "#E5ECF6",
           "caxis": {
            "gridcolor": "white",
            "linecolor": "white",
            "ticks": ""
           }
          },
          "title": {
           "x": 0.05
          },
          "xaxis": {
           "automargin": true,
           "gridcolor": "white",
           "linecolor": "white",
           "ticks": "",
           "title": {
            "standoff": 15
           },
           "zerolinecolor": "white",
           "zerolinewidth": 2
          },
          "yaxis": {
           "automargin": true,
           "gridcolor": "white",
           "linecolor": "white",
           "ticks": "",
           "title": {
            "standoff": 15
           },
           "zerolinecolor": "white",
           "zerolinewidth": 2
          }
         }
        },
        "xaxis": {
         "anchor": "y",
         "domain": [
          0,
          1
         ],
         "title": {
          "text": "scores"
         }
        },
        "yaxis": {
         "anchor": "x",
         "domain": [
          0,
          1
         ],
         "title": {
          "text": "count"
         }
        }
       }
      },
      "text/html": [
       "<div>                            <div id=\"079d0708-5956-4d52-a9b1-b8df38ebb2f4\" class=\"plotly-graph-div\" style=\"height:525px; width:100%;\"></div>            <script type=\"text/javascript\">                require([\"plotly\"], function(Plotly) {                    window.PLOTLYENV=window.PLOTLYENV || {};                                    if (document.getElementById(\"079d0708-5956-4d52-a9b1-b8df38ebb2f4\")) {                    Plotly.newPlot(                        \"079d0708-5956-4d52-a9b1-b8df38ebb2f4\",                        [{\"alignmentgroup\":\"True\",\"bingroup\":\"x\",\"hovertemplate\":\"Status=outlier<br>scores=%{x}<br>count=%{y}<extra></extra>\",\"legendgroup\":\"outlier\",\"marker\":{\"color\":\"#636efa\",\"pattern\":{\"shape\":\"\"}},\"name\":\"outlier\",\"offsetgroup\":\"outlier\",\"orientation\":\"v\",\"showlegend\":true,\"x\":[-0.27997025444122847,-0.30613527808679464,-0.07978726751606413,-0.1654500475400884,-0.11959753834397813,-0.12617356868020113,-0.016823761404493487],\"xaxis\":\"x\",\"yaxis\":\"y\",\"type\":\"histogram\"},{\"alignmentgroup\":\"True\",\"bingroup\":\"x\",\"hovertemplate\":\"Status=inlier<br>scores=%{x}<br>count=%{y}<extra></extra>\",\"legendgroup\":\"inlier\",\"marker\":{\"color\":\"#EF553B\",\"pattern\":{\"shape\":\"\"}},\"name\":\"inlier\",\"offsetgroup\":\"inlier\",\"orientation\":\"v\",\"showlegend\":true,\"x\":[0.031433194618674554,0.10516499626271464,0.09304816973940433,0.012115895014691291,0.07348468597165819,0.07529046894179037,0.10026080528235776,0.05308630957156424,0.08599325398025037,0.09252396980458194,0.10256644667958176,0.04708223433220149,0.07810161114880904,0.10352714028516435,0.10946937235693915,0.07129536158059663,0.09828513694250818,0.09080216897201981,0.008149959909626803,0.07927809587344192,0.07963498093422944,0.0726827578777855,0.10679582077329669,0.06317026967117761,0.11090359571118247,0.04960177937277044,0.09473782927730845,0.10423822317880327,0.08778183212365842,0.08338920137817513,0.1101833331771847,0.09231872237413091,0.09210359714858962,0.06814036826374892,0.06093631631053131,0.07368772331393764,0.10379395010467563],\"xaxis\":\"x\",\"yaxis\":\"y\",\"type\":\"histogram\"}],                        {\"template\":{\"data\":{\"histogram2dcontour\":[{\"type\":\"histogram2dcontour\",\"colorbar\":{\"outlinewidth\":0,\"ticks\":\"\"},\"colorscale\":[[0.0,\"#0d0887\"],[0.1111111111111111,\"#46039f\"],[0.2222222222222222,\"#7201a8\"],[0.3333333333333333,\"#9c179e\"],[0.4444444444444444,\"#bd3786\"],[0.5555555555555556,\"#d8576b\"],[0.6666666666666666,\"#ed7953\"],[0.7777777777777778,\"#fb9f3a\"],[0.8888888888888888,\"#fdca26\"],[1.0,\"#f0f921\"]]}],\"choropleth\":[{\"type\":\"choropleth\",\"colorbar\":{\"outlinewidth\":0,\"ticks\":\"\"}}],\"histogram2d\":[{\"type\":\"histogram2d\",\"colorbar\":{\"outlinewidth\":0,\"ticks\":\"\"},\"colorscale\":[[0.0,\"#0d0887\"],[0.1111111111111111,\"#46039f\"],[0.2222222222222222,\"#7201a8\"],[0.3333333333333333,\"#9c179e\"],[0.4444444444444444,\"#bd3786\"],[0.5555555555555556,\"#d8576b\"],[0.6666666666666666,\"#ed7953\"],[0.7777777777777778,\"#fb9f3a\"],[0.8888888888888888,\"#fdca26\"],[1.0,\"#f0f921\"]]}],\"heatmap\":[{\"type\":\"heatmap\",\"colorbar\":{\"outlinewidth\":0,\"ticks\":\"\"},\"colorscale\":[[0.0,\"#0d0887\"],[0.1111111111111111,\"#46039f\"],[0.2222222222222222,\"#7201a8\"],[0.3333333333333333,\"#9c179e\"],[0.4444444444444444,\"#bd3786\"],[0.5555555555555556,\"#d8576b\"],[0.6666666666666666,\"#ed7953\"],[0.7777777777777778,\"#fb9f3a\"],[0.8888888888888888,\"#fdca26\"],[1.0,\"#f0f921\"]]}],\"heatmapgl\":[{\"type\":\"heatmapgl\",\"colorbar\":{\"outlinewidth\":0,\"ticks\":\"\"},\"colorscale\":[[0.0,\"#0d0887\"],[0.1111111111111111,\"#46039f\"],[0.2222222222222222,\"#7201a8\"],[0.3333333333333333,\"#9c179e\"],[0.4444444444444444,\"#bd3786\"],[0.5555555555555556,\"#d8576b\"],[0.6666666666666666,\"#ed7953\"],[0.7777777777777778,\"#fb9f3a\"],[0.8888888888888888,\"#fdca26\"],[1.0,\"#f0f921\"]]}],\"contourcarpet\":[{\"type\":\"contourcarpet\",\"colorbar\":{\"outlinewidth\":0,\"ticks\":\"\"}}],\"contour\":[{\"type\":\"contour\",\"colorbar\":{\"outlinewidth\":0,\"ticks\":\"\"},\"colorscale\":[[0.0,\"#0d0887\"],[0.1111111111111111,\"#46039f\"],[0.2222222222222222,\"#7201a8\"],[0.3333333333333333,\"#9c179e\"],[0.4444444444444444,\"#bd3786\"],[0.5555555555555556,\"#d8576b\"],[0.6666666666666666,\"#ed7953\"],[0.7777777777777778,\"#fb9f3a\"],[0.8888888888888888,\"#fdca26\"],[1.0,\"#f0f921\"]]}],\"surface\":[{\"type\":\"surface\",\"colorbar\":{\"outlinewidth\":0,\"ticks\":\"\"},\"colorscale\":[[0.0,\"#0d0887\"],[0.1111111111111111,\"#46039f\"],[0.2222222222222222,\"#7201a8\"],[0.3333333333333333,\"#9c179e\"],[0.4444444444444444,\"#bd3786\"],[0.5555555555555556,\"#d8576b\"],[0.6666666666666666,\"#ed7953\"],[0.7777777777777778,\"#fb9f3a\"],[0.8888888888888888,\"#fdca26\"],[1.0,\"#f0f921\"]]}],\"mesh3d\":[{\"type\":\"mesh3d\",\"colorbar\":{\"outlinewidth\":0,\"ticks\":\"\"}}],\"scatter\":[{\"fillpattern\":{\"fillmode\":\"overlay\",\"size\":10,\"solidity\":0.2},\"type\":\"scatter\"}],\"parcoords\":[{\"type\":\"parcoords\",\"line\":{\"colorbar\":{\"outlinewidth\":0,\"ticks\":\"\"}}}],\"scatterpolargl\":[{\"type\":\"scatterpolargl\",\"marker\":{\"colorbar\":{\"outlinewidth\":0,\"ticks\":\"\"}}}],\"bar\":[{\"error_x\":{\"color\":\"#2a3f5f\"},\"error_y\":{\"color\":\"#2a3f5f\"},\"marker\":{\"line\":{\"color\":\"#E5ECF6\",\"width\":0.5},\"pattern\":{\"fillmode\":\"overlay\",\"size\":10,\"solidity\":0.2}},\"type\":\"bar\"}],\"scattergeo\":[{\"type\":\"scattergeo\",\"marker\":{\"colorbar\":{\"outlinewidth\":0,\"ticks\":\"\"}}}],\"scatterpolar\":[{\"type\":\"scatterpolar\",\"marker\":{\"colorbar\":{\"outlinewidth\":0,\"ticks\":\"\"}}}],\"histogram\":[{\"marker\":{\"pattern\":{\"fillmode\":\"overlay\",\"size\":10,\"solidity\":0.2}},\"type\":\"histogram\"}],\"scattergl\":[{\"type\":\"scattergl\",\"marker\":{\"colorbar\":{\"outlinewidth\":0,\"ticks\":\"\"}}}],\"scatter3d\":[{\"type\":\"scatter3d\",\"line\":{\"colorbar\":{\"outlinewidth\":0,\"ticks\":\"\"}},\"marker\":{\"colorbar\":{\"outlinewidth\":0,\"ticks\":\"\"}}}],\"scattermapbox\":[{\"type\":\"scattermapbox\",\"marker\":{\"colorbar\":{\"outlinewidth\":0,\"ticks\":\"\"}}}],\"scatterternary\":[{\"type\":\"scatterternary\",\"marker\":{\"colorbar\":{\"outlinewidth\":0,\"ticks\":\"\"}}}],\"scattercarpet\":[{\"type\":\"scattercarpet\",\"marker\":{\"colorbar\":{\"outlinewidth\":0,\"ticks\":\"\"}}}],\"carpet\":[{\"aaxis\":{\"endlinecolor\":\"#2a3f5f\",\"gridcolor\":\"white\",\"linecolor\":\"white\",\"minorgridcolor\":\"white\",\"startlinecolor\":\"#2a3f5f\"},\"baxis\":{\"endlinecolor\":\"#2a3f5f\",\"gridcolor\":\"white\",\"linecolor\":\"white\",\"minorgridcolor\":\"white\",\"startlinecolor\":\"#2a3f5f\"},\"type\":\"carpet\"}],\"table\":[{\"cells\":{\"fill\":{\"color\":\"#EBF0F8\"},\"line\":{\"color\":\"white\"}},\"header\":{\"fill\":{\"color\":\"#C8D4E3\"},\"line\":{\"color\":\"white\"}},\"type\":\"table\"}],\"barpolar\":[{\"marker\":{\"line\":{\"color\":\"#E5ECF6\",\"width\":0.5},\"pattern\":{\"fillmode\":\"overlay\",\"size\":10,\"solidity\":0.2}},\"type\":\"barpolar\"}],\"pie\":[{\"automargin\":true,\"type\":\"pie\"}]},\"layout\":{\"autotypenumbers\":\"strict\",\"colorway\":[\"#636efa\",\"#EF553B\",\"#00cc96\",\"#ab63fa\",\"#FFA15A\",\"#19d3f3\",\"#FF6692\",\"#B6E880\",\"#FF97FF\",\"#FECB52\"],\"font\":{\"color\":\"#2a3f5f\"},\"hovermode\":\"closest\",\"hoverlabel\":{\"align\":\"left\"},\"paper_bgcolor\":\"white\",\"plot_bgcolor\":\"#E5ECF6\",\"polar\":{\"bgcolor\":\"#E5ECF6\",\"angularaxis\":{\"gridcolor\":\"white\",\"linecolor\":\"white\",\"ticks\":\"\"},\"radialaxis\":{\"gridcolor\":\"white\",\"linecolor\":\"white\",\"ticks\":\"\"}},\"ternary\":{\"bgcolor\":\"#E5ECF6\",\"aaxis\":{\"gridcolor\":\"white\",\"linecolor\":\"white\",\"ticks\":\"\"},\"baxis\":{\"gridcolor\":\"white\",\"linecolor\":\"white\",\"ticks\":\"\"},\"caxis\":{\"gridcolor\":\"white\",\"linecolor\":\"white\",\"ticks\":\"\"}},\"coloraxis\":{\"colorbar\":{\"outlinewidth\":0,\"ticks\":\"\"}},\"colorscale\":{\"sequential\":[[0.0,\"#0d0887\"],[0.1111111111111111,\"#46039f\"],[0.2222222222222222,\"#7201a8\"],[0.3333333333333333,\"#9c179e\"],[0.4444444444444444,\"#bd3786\"],[0.5555555555555556,\"#d8576b\"],[0.6666666666666666,\"#ed7953\"],[0.7777777777777778,\"#fb9f3a\"],[0.8888888888888888,\"#fdca26\"],[1.0,\"#f0f921\"]],\"sequentialminus\":[[0.0,\"#0d0887\"],[0.1111111111111111,\"#46039f\"],[0.2222222222222222,\"#7201a8\"],[0.3333333333333333,\"#9c179e\"],[0.4444444444444444,\"#bd3786\"],[0.5555555555555556,\"#d8576b\"],[0.6666666666666666,\"#ed7953\"],[0.7777777777777778,\"#fb9f3a\"],[0.8888888888888888,\"#fdca26\"],[1.0,\"#f0f921\"]],\"diverging\":[[0,\"#8e0152\"],[0.1,\"#c51b7d\"],[0.2,\"#de77ae\"],[0.3,\"#f1b6da\"],[0.4,\"#fde0ef\"],[0.5,\"#f7f7f7\"],[0.6,\"#e6f5d0\"],[0.7,\"#b8e186\"],[0.8,\"#7fbc41\"],[0.9,\"#4d9221\"],[1,\"#276419\"]]},\"xaxis\":{\"gridcolor\":\"white\",\"linecolor\":\"white\",\"ticks\":\"\",\"title\":{\"standoff\":15},\"zerolinecolor\":\"white\",\"automargin\":true,\"zerolinewidth\":2},\"yaxis\":{\"gridcolor\":\"white\",\"linecolor\":\"white\",\"ticks\":\"\",\"title\":{\"standoff\":15},\"zerolinecolor\":\"white\",\"automargin\":true,\"zerolinewidth\":2},\"scene\":{\"xaxis\":{\"backgroundcolor\":\"#E5ECF6\",\"gridcolor\":\"white\",\"linecolor\":\"white\",\"showbackground\":true,\"ticks\":\"\",\"zerolinecolor\":\"white\",\"gridwidth\":2},\"yaxis\":{\"backgroundcolor\":\"#E5ECF6\",\"gridcolor\":\"white\",\"linecolor\":\"white\",\"showbackground\":true,\"ticks\":\"\",\"zerolinecolor\":\"white\",\"gridwidth\":2},\"zaxis\":{\"backgroundcolor\":\"#E5ECF6\",\"gridcolor\":\"white\",\"linecolor\":\"white\",\"showbackground\":true,\"ticks\":\"\",\"zerolinecolor\":\"white\",\"gridwidth\":2}},\"shapedefaults\":{\"line\":{\"color\":\"#2a3f5f\"}},\"annotationdefaults\":{\"arrowcolor\":\"#2a3f5f\",\"arrowhead\":0,\"arrowwidth\":1},\"geo\":{\"bgcolor\":\"white\",\"landcolor\":\"#E5ECF6\",\"subunitcolor\":\"white\",\"showland\":true,\"showlakes\":true,\"lakecolor\":\"white\"},\"title\":{\"x\":0.05},\"mapbox\":{\"style\":\"light\"}}},\"xaxis\":{\"anchor\":\"y\",\"domain\":[0.0,1.0],\"title\":{\"text\":\"scores\"}},\"yaxis\":{\"anchor\":\"x\",\"domain\":[0.0,1.0],\"title\":{\"text\":\"count\"}},\"legend\":{\"title\":{\"text\":\"Status\"},\"tracegroupgap\":0},\"margin\":{\"t\":60},\"barmode\":\"relative\"},                        {\"responsive\": true}                    ).then(function(){\n",
       "                            \n",
       "var gd = document.getElementById('079d0708-5956-4d52-a9b1-b8df38ebb2f4');\n",
       "var x = new MutationObserver(function (mutations, observer) {{\n",
       "        var display = window.getComputedStyle(gd).display;\n",
       "        if (!display || display === 'none') {{\n",
       "            console.log([gd, 'removed!']);\n",
       "            Plotly.purge(gd);\n",
       "            observer.disconnect();\n",
       "        }}\n",
       "}});\n",
       "\n",
       "// Listen for the removal of the full notebook cells\n",
       "var notebookContainer = gd.closest('#notebook-container');\n",
       "if (notebookContainer) {{\n",
       "    x.observe(notebookContainer, {childList: true});\n",
       "}}\n",
       "\n",
       "// Listen for the clearing of the current output cell\n",
       "var outputEl = gd.closest('.output');\n",
       "if (outputEl) {{\n",
       "    x.observe(outputEl, {childList: true});\n",
       "}}\n",
       "\n",
       "                        })                };                });            </script>        </div>"
      ]
     },
     "metadata": {},
     "output_type": "display_data"
    }
   ],
   "source": [
    "df['Status']=df['anomaly'].apply(lambda x: 'outlier' if x==-1  else 'inlier')\n",
    "fig=px.histogram(df,x='scores',color='Status')\n",
    "fig.show() # Histogram to show the proportion of outliers to inliers."
   ]
  },
  {
   "cell_type": "code",
   "execution_count": 76,
   "id": "e53de4a9",
   "metadata": {},
   "outputs": [
    {
     "data": {
      "application/vnd.plotly.v1+json": {
       "config": {
        "plotlyServerURL": "https://plot.ly"
       },
       "data": [
        {
         "hovertemplate": "scores=%{x}<br>Country=%{y}<br>Average Consumption=%{z}<br>anomaly=%{marker.color}<extra></extra>",
         "legendgroup": "",
         "marker": {
          "color": [
           -1,
           -1,
           1,
           1,
           1,
           1,
           -1,
           1,
           1,
           1,
           1,
           1,
           1,
           1,
           1,
           1,
           1,
           1,
           -1,
           1,
           1,
           1,
           1,
           1,
           1,
           1,
           1,
           1,
           -1,
           1,
           1,
           1,
           1,
           -1,
           1,
           -1,
           1,
           1,
           1,
           1,
           1,
           1,
           1,
           1
          ],
          "coloraxis": "coloraxis",
          "symbol": "circle"
         },
         "mode": "markers",
         "name": "",
         "scene": "scene",
         "showlegend": false,
         "type": "scatter3d",
         "x": [
          -0.27997025444122847,
          -0.30613527808679464,
          0.031433194618674554,
          0.10516499626271464,
          0.09304816973940433,
          0.012115895014691291,
          -0.07978726751606413,
          0.07348468597165819,
          0.07529046894179037,
          0.10026080528235776,
          0.05308630957156424,
          0.08599325398025037,
          0.09252396980458194,
          0.10256644667958176,
          0.04708223433220149,
          0.07810161114880904,
          0.10352714028516435,
          0.10946937235693915,
          -0.1654500475400884,
          0.07129536158059663,
          0.09828513694250818,
          0.09080216897201981,
          0.008149959909626803,
          0.07927809587344192,
          0.07963498093422944,
          0.0726827578777855,
          0.10679582077329669,
          0.06317026967117761,
          -0.11959753834397813,
          0.11090359571118247,
          0.04960177937277044,
          0.09473782927730845,
          0.10423822317880327,
          -0.12617356868020113,
          0.08778183212365842,
          -0.016823761404493487,
          0.08338920137817513,
          0.1101833331771847,
          0.09231872237413091,
          0.09210359714858962,
          0.06814036826374892,
          0.06093631631053131,
          0.07368772331393764,
          0.10379395010467563
         ],
         "y": [
          "China",
          "United States",
          "Brazil",
          "Belgium",
          "Czechia",
          "France",
          "Germany",
          "Italy",
          "Netherlands",
          "Poland",
          "Portugal",
          "Romania",
          "Spain",
          "Sweden",
          "United Kingdom",
          "Norway",
          "Turkey",
          "Kazakhstan",
          "Russia",
          "Ukraine",
          "Uzbekistan",
          "Argentina",
          "Canada",
          "Chile",
          "Colombia",
          "Mexico",
          "Venezuela",
          "Indonesia",
          "Japan",
          "Malaysia",
          "South Korea",
          "Taiwan",
          "Thailand",
          "India",
          "Australia",
          "New Zealand",
          "Algeria",
          "Egypt",
          "Nigeria",
          "South Africa",
          "Iran",
          "Kuwait",
          "Saudi Arabia",
          "United Arab Emirates"
         ],
         "z": [
          1923.3225806451612,
          2167.451612903226,
          223.4516129032258,
          54.903225806451616,
          43.25806451612903,
          251.19354838709677,
          327.9032258064516,
          162.90322580645162,
          74.87096774193549,
          97.41935483870968,
          22.225806451612904,
          39.193548387096776,
          117.83870967741936,
          49.25806451612903,
          204.32258064516128,
          27.06451612903226,
          92.61290322580645,
          59.774193548387096,
          691.6774193548387,
          139.06451612903226,
          46.774193548387096,
          66.06451612903226,
          259.51612903225805,
          28.032258064516128,
          30.677419354838708,
          163.51612903225808,
          56.29032258064516,
          171.74193548387098,
          476.741935483871,
          61.225806451612904,
          212.41935483870967,
          89.03225806451613,
          95.61290322580645,
          580,
          112.64516129032258,
          17.612903225806452,
          37.25806451612903,
          60.935483870967744,
          108.96774193548387,
          118.19354838709677,
          169.06451612903226,
          23.161290322580644,
          138.38709677419354,
          49.064516129032256
         ]
        }
       ],
       "layout": {
        "coloraxis": {
         "colorbar": {
          "title": {
           "text": "anomaly"
          }
         },
         "colorscale": [
          [
           0,
           "#0d0887"
          ],
          [
           0.1111111111111111,
           "#46039f"
          ],
          [
           0.2222222222222222,
           "#7201a8"
          ],
          [
           0.3333333333333333,
           "#9c179e"
          ],
          [
           0.4444444444444444,
           "#bd3786"
          ],
          [
           0.5555555555555556,
           "#d8576b"
          ],
          [
           0.6666666666666666,
           "#ed7953"
          ],
          [
           0.7777777777777778,
           "#fb9f3a"
          ],
          [
           0.8888888888888888,
           "#fdca26"
          ],
          [
           1,
           "#f0f921"
          ]
         ]
        },
        "legend": {
         "tracegroupgap": 0
        },
        "margin": {
         "t": 60
        },
        "scene": {
         "domain": {
          "x": [
           0,
           1
          ],
          "y": [
           0,
           1
          ]
         },
         "xaxis": {
          "title": {
           "text": "scores"
          }
         },
         "yaxis": {
          "title": {
           "text": "Country"
          }
         },
         "zaxis": {
          "title": {
           "text": "Average Consumption"
          }
         }
        },
        "template": {
         "data": {
          "bar": [
           {
            "error_x": {
             "color": "#2a3f5f"
            },
            "error_y": {
             "color": "#2a3f5f"
            },
            "marker": {
             "line": {
              "color": "#E5ECF6",
              "width": 0.5
             },
             "pattern": {
              "fillmode": "overlay",
              "size": 10,
              "solidity": 0.2
             }
            },
            "type": "bar"
           }
          ],
          "barpolar": [
           {
            "marker": {
             "line": {
              "color": "#E5ECF6",
              "width": 0.5
             },
             "pattern": {
              "fillmode": "overlay",
              "size": 10,
              "solidity": 0.2
             }
            },
            "type": "barpolar"
           }
          ],
          "carpet": [
           {
            "aaxis": {
             "endlinecolor": "#2a3f5f",
             "gridcolor": "white",
             "linecolor": "white",
             "minorgridcolor": "white",
             "startlinecolor": "#2a3f5f"
            },
            "baxis": {
             "endlinecolor": "#2a3f5f",
             "gridcolor": "white",
             "linecolor": "white",
             "minorgridcolor": "white",
             "startlinecolor": "#2a3f5f"
            },
            "type": "carpet"
           }
          ],
          "choropleth": [
           {
            "colorbar": {
             "outlinewidth": 0,
             "ticks": ""
            },
            "type": "choropleth"
           }
          ],
          "contour": [
           {
            "colorbar": {
             "outlinewidth": 0,
             "ticks": ""
            },
            "colorscale": [
             [
              0,
              "#0d0887"
             ],
             [
              0.1111111111111111,
              "#46039f"
             ],
             [
              0.2222222222222222,
              "#7201a8"
             ],
             [
              0.3333333333333333,
              "#9c179e"
             ],
             [
              0.4444444444444444,
              "#bd3786"
             ],
             [
              0.5555555555555556,
              "#d8576b"
             ],
             [
              0.6666666666666666,
              "#ed7953"
             ],
             [
              0.7777777777777778,
              "#fb9f3a"
             ],
             [
              0.8888888888888888,
              "#fdca26"
             ],
             [
              1,
              "#f0f921"
             ]
            ],
            "type": "contour"
           }
          ],
          "contourcarpet": [
           {
            "colorbar": {
             "outlinewidth": 0,
             "ticks": ""
            },
            "type": "contourcarpet"
           }
          ],
          "heatmap": [
           {
            "colorbar": {
             "outlinewidth": 0,
             "ticks": ""
            },
            "colorscale": [
             [
              0,
              "#0d0887"
             ],
             [
              0.1111111111111111,
              "#46039f"
             ],
             [
              0.2222222222222222,
              "#7201a8"
             ],
             [
              0.3333333333333333,
              "#9c179e"
             ],
             [
              0.4444444444444444,
              "#bd3786"
             ],
             [
              0.5555555555555556,
              "#d8576b"
             ],
             [
              0.6666666666666666,
              "#ed7953"
             ],
             [
              0.7777777777777778,
              "#fb9f3a"
             ],
             [
              0.8888888888888888,
              "#fdca26"
             ],
             [
              1,
              "#f0f921"
             ]
            ],
            "type": "heatmap"
           }
          ],
          "heatmapgl": [
           {
            "colorbar": {
             "outlinewidth": 0,
             "ticks": ""
            },
            "colorscale": [
             [
              0,
              "#0d0887"
             ],
             [
              0.1111111111111111,
              "#46039f"
             ],
             [
              0.2222222222222222,
              "#7201a8"
             ],
             [
              0.3333333333333333,
              "#9c179e"
             ],
             [
              0.4444444444444444,
              "#bd3786"
             ],
             [
              0.5555555555555556,
              "#d8576b"
             ],
             [
              0.6666666666666666,
              "#ed7953"
             ],
             [
              0.7777777777777778,
              "#fb9f3a"
             ],
             [
              0.8888888888888888,
              "#fdca26"
             ],
             [
              1,
              "#f0f921"
             ]
            ],
            "type": "heatmapgl"
           }
          ],
          "histogram": [
           {
            "marker": {
             "pattern": {
              "fillmode": "overlay",
              "size": 10,
              "solidity": 0.2
             }
            },
            "type": "histogram"
           }
          ],
          "histogram2d": [
           {
            "colorbar": {
             "outlinewidth": 0,
             "ticks": ""
            },
            "colorscale": [
             [
              0,
              "#0d0887"
             ],
             [
              0.1111111111111111,
              "#46039f"
             ],
             [
              0.2222222222222222,
              "#7201a8"
             ],
             [
              0.3333333333333333,
              "#9c179e"
             ],
             [
              0.4444444444444444,
              "#bd3786"
             ],
             [
              0.5555555555555556,
              "#d8576b"
             ],
             [
              0.6666666666666666,
              "#ed7953"
             ],
             [
              0.7777777777777778,
              "#fb9f3a"
             ],
             [
              0.8888888888888888,
              "#fdca26"
             ],
             [
              1,
              "#f0f921"
             ]
            ],
            "type": "histogram2d"
           }
          ],
          "histogram2dcontour": [
           {
            "colorbar": {
             "outlinewidth": 0,
             "ticks": ""
            },
            "colorscale": [
             [
              0,
              "#0d0887"
             ],
             [
              0.1111111111111111,
              "#46039f"
             ],
             [
              0.2222222222222222,
              "#7201a8"
             ],
             [
              0.3333333333333333,
              "#9c179e"
             ],
             [
              0.4444444444444444,
              "#bd3786"
             ],
             [
              0.5555555555555556,
              "#d8576b"
             ],
             [
              0.6666666666666666,
              "#ed7953"
             ],
             [
              0.7777777777777778,
              "#fb9f3a"
             ],
             [
              0.8888888888888888,
              "#fdca26"
             ],
             [
              1,
              "#f0f921"
             ]
            ],
            "type": "histogram2dcontour"
           }
          ],
          "mesh3d": [
           {
            "colorbar": {
             "outlinewidth": 0,
             "ticks": ""
            },
            "type": "mesh3d"
           }
          ],
          "parcoords": [
           {
            "line": {
             "colorbar": {
              "outlinewidth": 0,
              "ticks": ""
             }
            },
            "type": "parcoords"
           }
          ],
          "pie": [
           {
            "automargin": true,
            "type": "pie"
           }
          ],
          "scatter": [
           {
            "fillpattern": {
             "fillmode": "overlay",
             "size": 10,
             "solidity": 0.2
            },
            "type": "scatter"
           }
          ],
          "scatter3d": [
           {
            "line": {
             "colorbar": {
              "outlinewidth": 0,
              "ticks": ""
             }
            },
            "marker": {
             "colorbar": {
              "outlinewidth": 0,
              "ticks": ""
             }
            },
            "type": "scatter3d"
           }
          ],
          "scattercarpet": [
           {
            "marker": {
             "colorbar": {
              "outlinewidth": 0,
              "ticks": ""
             }
            },
            "type": "scattercarpet"
           }
          ],
          "scattergeo": [
           {
            "marker": {
             "colorbar": {
              "outlinewidth": 0,
              "ticks": ""
             }
            },
            "type": "scattergeo"
           }
          ],
          "scattergl": [
           {
            "marker": {
             "colorbar": {
              "outlinewidth": 0,
              "ticks": ""
             }
            },
            "type": "scattergl"
           }
          ],
          "scattermapbox": [
           {
            "marker": {
             "colorbar": {
              "outlinewidth": 0,
              "ticks": ""
             }
            },
            "type": "scattermapbox"
           }
          ],
          "scatterpolar": [
           {
            "marker": {
             "colorbar": {
              "outlinewidth": 0,
              "ticks": ""
             }
            },
            "type": "scatterpolar"
           }
          ],
          "scatterpolargl": [
           {
            "marker": {
             "colorbar": {
              "outlinewidth": 0,
              "ticks": ""
             }
            },
            "type": "scatterpolargl"
           }
          ],
          "scatterternary": [
           {
            "marker": {
             "colorbar": {
              "outlinewidth": 0,
              "ticks": ""
             }
            },
            "type": "scatterternary"
           }
          ],
          "surface": [
           {
            "colorbar": {
             "outlinewidth": 0,
             "ticks": ""
            },
            "colorscale": [
             [
              0,
              "#0d0887"
             ],
             [
              0.1111111111111111,
              "#46039f"
             ],
             [
              0.2222222222222222,
              "#7201a8"
             ],
             [
              0.3333333333333333,
              "#9c179e"
             ],
             [
              0.4444444444444444,
              "#bd3786"
             ],
             [
              0.5555555555555556,
              "#d8576b"
             ],
             [
              0.6666666666666666,
              "#ed7953"
             ],
             [
              0.7777777777777778,
              "#fb9f3a"
             ],
             [
              0.8888888888888888,
              "#fdca26"
             ],
             [
              1,
              "#f0f921"
             ]
            ],
            "type": "surface"
           }
          ],
          "table": [
           {
            "cells": {
             "fill": {
              "color": "#EBF0F8"
             },
             "line": {
              "color": "white"
             }
            },
            "header": {
             "fill": {
              "color": "#C8D4E3"
             },
             "line": {
              "color": "white"
             }
            },
            "type": "table"
           }
          ]
         },
         "layout": {
          "annotationdefaults": {
           "arrowcolor": "#2a3f5f",
           "arrowhead": 0,
           "arrowwidth": 1
          },
          "autotypenumbers": "strict",
          "coloraxis": {
           "colorbar": {
            "outlinewidth": 0,
            "ticks": ""
           }
          },
          "colorscale": {
           "diverging": [
            [
             0,
             "#8e0152"
            ],
            [
             0.1,
             "#c51b7d"
            ],
            [
             0.2,
             "#de77ae"
            ],
            [
             0.3,
             "#f1b6da"
            ],
            [
             0.4,
             "#fde0ef"
            ],
            [
             0.5,
             "#f7f7f7"
            ],
            [
             0.6,
             "#e6f5d0"
            ],
            [
             0.7,
             "#b8e186"
            ],
            [
             0.8,
             "#7fbc41"
            ],
            [
             0.9,
             "#4d9221"
            ],
            [
             1,
             "#276419"
            ]
           ],
           "sequential": [
            [
             0,
             "#0d0887"
            ],
            [
             0.1111111111111111,
             "#46039f"
            ],
            [
             0.2222222222222222,
             "#7201a8"
            ],
            [
             0.3333333333333333,
             "#9c179e"
            ],
            [
             0.4444444444444444,
             "#bd3786"
            ],
            [
             0.5555555555555556,
             "#d8576b"
            ],
            [
             0.6666666666666666,
             "#ed7953"
            ],
            [
             0.7777777777777778,
             "#fb9f3a"
            ],
            [
             0.8888888888888888,
             "#fdca26"
            ],
            [
             1,
             "#f0f921"
            ]
           ],
           "sequentialminus": [
            [
             0,
             "#0d0887"
            ],
            [
             0.1111111111111111,
             "#46039f"
            ],
            [
             0.2222222222222222,
             "#7201a8"
            ],
            [
             0.3333333333333333,
             "#9c179e"
            ],
            [
             0.4444444444444444,
             "#bd3786"
            ],
            [
             0.5555555555555556,
             "#d8576b"
            ],
            [
             0.6666666666666666,
             "#ed7953"
            ],
            [
             0.7777777777777778,
             "#fb9f3a"
            ],
            [
             0.8888888888888888,
             "#fdca26"
            ],
            [
             1,
             "#f0f921"
            ]
           ]
          },
          "colorway": [
           "#636efa",
           "#EF553B",
           "#00cc96",
           "#ab63fa",
           "#FFA15A",
           "#19d3f3",
           "#FF6692",
           "#B6E880",
           "#FF97FF",
           "#FECB52"
          ],
          "font": {
           "color": "#2a3f5f"
          },
          "geo": {
           "bgcolor": "white",
           "lakecolor": "white",
           "landcolor": "#E5ECF6",
           "showlakes": true,
           "showland": true,
           "subunitcolor": "white"
          },
          "hoverlabel": {
           "align": "left"
          },
          "hovermode": "closest",
          "mapbox": {
           "style": "light"
          },
          "paper_bgcolor": "white",
          "plot_bgcolor": "#E5ECF6",
          "polar": {
           "angularaxis": {
            "gridcolor": "white",
            "linecolor": "white",
            "ticks": ""
           },
           "bgcolor": "#E5ECF6",
           "radialaxis": {
            "gridcolor": "white",
            "linecolor": "white",
            "ticks": ""
           }
          },
          "scene": {
           "xaxis": {
            "backgroundcolor": "#E5ECF6",
            "gridcolor": "white",
            "gridwidth": 2,
            "linecolor": "white",
            "showbackground": true,
            "ticks": "",
            "zerolinecolor": "white"
           },
           "yaxis": {
            "backgroundcolor": "#E5ECF6",
            "gridcolor": "white",
            "gridwidth": 2,
            "linecolor": "white",
            "showbackground": true,
            "ticks": "",
            "zerolinecolor": "white"
           },
           "zaxis": {
            "backgroundcolor": "#E5ECF6",
            "gridcolor": "white",
            "gridwidth": 2,
            "linecolor": "white",
            "showbackground": true,
            "ticks": "",
            "zerolinecolor": "white"
           }
          },
          "shapedefaults": {
           "line": {
            "color": "#2a3f5f"
           }
          },
          "ternary": {
           "aaxis": {
            "gridcolor": "white",
            "linecolor": "white",
            "ticks": ""
           },
           "baxis": {
            "gridcolor": "white",
            "linecolor": "white",
            "ticks": ""
           },
           "bgcolor": "#E5ECF6",
           "caxis": {
            "gridcolor": "white",
            "linecolor": "white",
            "ticks": ""
           }
          },
          "title": {
           "x": 0.05
          },
          "xaxis": {
           "automargin": true,
           "gridcolor": "white",
           "linecolor": "white",
           "ticks": "",
           "title": {
            "standoff": 15
           },
           "zerolinecolor": "white",
           "zerolinewidth": 2
          },
          "yaxis": {
           "automargin": true,
           "gridcolor": "white",
           "linecolor": "white",
           "ticks": "",
           "title": {
            "standoff": 15
           },
           "zerolinecolor": "white",
           "zerolinewidth": 2
          }
         }
        }
       }
      },
      "text/html": [
       "<div>                            <div id=\"5ed5cd0a-a607-4400-9d97-18f38057c864\" class=\"plotly-graph-div\" style=\"height:525px; width:100%;\"></div>            <script type=\"text/javascript\">                require([\"plotly\"], function(Plotly) {                    window.PLOTLYENV=window.PLOTLYENV || {};                                    if (document.getElementById(\"5ed5cd0a-a607-4400-9d97-18f38057c864\")) {                    Plotly.newPlot(                        \"5ed5cd0a-a607-4400-9d97-18f38057c864\",                        [{\"hovertemplate\":\"scores=%{x}<br>Country=%{y}<br>Average Consumption=%{z}<br>anomaly=%{marker.color}<extra></extra>\",\"legendgroup\":\"\",\"marker\":{\"color\":[-1,-1,1,1,1,1,-1,1,1,1,1,1,1,1,1,1,1,1,-1,1,1,1,1,1,1,1,1,1,-1,1,1,1,1,-1,1,-1,1,1,1,1,1,1,1,1],\"coloraxis\":\"coloraxis\",\"symbol\":\"circle\"},\"mode\":\"markers\",\"name\":\"\",\"scene\":\"scene\",\"showlegend\":false,\"x\":[-0.27997025444122847,-0.30613527808679464,0.031433194618674554,0.10516499626271464,0.09304816973940433,0.012115895014691291,-0.07978726751606413,0.07348468597165819,0.07529046894179037,0.10026080528235776,0.05308630957156424,0.08599325398025037,0.09252396980458194,0.10256644667958176,0.04708223433220149,0.07810161114880904,0.10352714028516435,0.10946937235693915,-0.1654500475400884,0.07129536158059663,0.09828513694250818,0.09080216897201981,0.008149959909626803,0.07927809587344192,0.07963498093422944,0.0726827578777855,0.10679582077329669,0.06317026967117761,-0.11959753834397813,0.11090359571118247,0.04960177937277044,0.09473782927730845,0.10423822317880327,-0.12617356868020113,0.08778183212365842,-0.016823761404493487,0.08338920137817513,0.1101833331771847,0.09231872237413091,0.09210359714858962,0.06814036826374892,0.06093631631053131,0.07368772331393764,0.10379395010467563],\"y\":[\"China\",\"United States\",\"Brazil\",\"Belgium\",\"Czechia\",\"France\",\"Germany\",\"Italy\",\"Netherlands\",\"Poland\",\"Portugal\",\"Romania\",\"Spain\",\"Sweden\",\"United Kingdom\",\"Norway\",\"Turkey\",\"Kazakhstan\",\"Russia\",\"Ukraine\",\"Uzbekistan\",\"Argentina\",\"Canada\",\"Chile\",\"Colombia\",\"Mexico\",\"Venezuela\",\"Indonesia\",\"Japan\",\"Malaysia\",\"South Korea\",\"Taiwan\",\"Thailand\",\"India\",\"Australia\",\"New Zealand\",\"Algeria\",\"Egypt\",\"Nigeria\",\"South Africa\",\"Iran\",\"Kuwait\",\"Saudi Arabia\",\"United Arab Emirates\"],\"z\":[1923.3225806451612,2167.451612903226,223.4516129032258,54.903225806451616,43.25806451612903,251.19354838709677,327.9032258064516,162.90322580645162,74.87096774193549,97.41935483870968,22.225806451612904,39.193548387096776,117.83870967741936,49.25806451612903,204.32258064516128,27.06451612903226,92.61290322580645,59.774193548387096,691.6774193548387,139.06451612903226,46.774193548387096,66.06451612903226,259.51612903225805,28.032258064516128,30.677419354838708,163.51612903225808,56.29032258064516,171.74193548387098,476.741935483871,61.225806451612904,212.41935483870967,89.03225806451613,95.61290322580645,580.0,112.64516129032258,17.612903225806452,37.25806451612903,60.935483870967744,108.96774193548387,118.19354838709677,169.06451612903226,23.161290322580644,138.38709677419354,49.064516129032256],\"type\":\"scatter3d\"}],                        {\"template\":{\"data\":{\"histogram2dcontour\":[{\"type\":\"histogram2dcontour\",\"colorbar\":{\"outlinewidth\":0,\"ticks\":\"\"},\"colorscale\":[[0.0,\"#0d0887\"],[0.1111111111111111,\"#46039f\"],[0.2222222222222222,\"#7201a8\"],[0.3333333333333333,\"#9c179e\"],[0.4444444444444444,\"#bd3786\"],[0.5555555555555556,\"#d8576b\"],[0.6666666666666666,\"#ed7953\"],[0.7777777777777778,\"#fb9f3a\"],[0.8888888888888888,\"#fdca26\"],[1.0,\"#f0f921\"]]}],\"choropleth\":[{\"type\":\"choropleth\",\"colorbar\":{\"outlinewidth\":0,\"ticks\":\"\"}}],\"histogram2d\":[{\"type\":\"histogram2d\",\"colorbar\":{\"outlinewidth\":0,\"ticks\":\"\"},\"colorscale\":[[0.0,\"#0d0887\"],[0.1111111111111111,\"#46039f\"],[0.2222222222222222,\"#7201a8\"],[0.3333333333333333,\"#9c179e\"],[0.4444444444444444,\"#bd3786\"],[0.5555555555555556,\"#d8576b\"],[0.6666666666666666,\"#ed7953\"],[0.7777777777777778,\"#fb9f3a\"],[0.8888888888888888,\"#fdca26\"],[1.0,\"#f0f921\"]]}],\"heatmap\":[{\"type\":\"heatmap\",\"colorbar\":{\"outlinewidth\":0,\"ticks\":\"\"},\"colorscale\":[[0.0,\"#0d0887\"],[0.1111111111111111,\"#46039f\"],[0.2222222222222222,\"#7201a8\"],[0.3333333333333333,\"#9c179e\"],[0.4444444444444444,\"#bd3786\"],[0.5555555555555556,\"#d8576b\"],[0.6666666666666666,\"#ed7953\"],[0.7777777777777778,\"#fb9f3a\"],[0.8888888888888888,\"#fdca26\"],[1.0,\"#f0f921\"]]}],\"heatmapgl\":[{\"type\":\"heatmapgl\",\"colorbar\":{\"outlinewidth\":0,\"ticks\":\"\"},\"colorscale\":[[0.0,\"#0d0887\"],[0.1111111111111111,\"#46039f\"],[0.2222222222222222,\"#7201a8\"],[0.3333333333333333,\"#9c179e\"],[0.4444444444444444,\"#bd3786\"],[0.5555555555555556,\"#d8576b\"],[0.6666666666666666,\"#ed7953\"],[0.7777777777777778,\"#fb9f3a\"],[0.8888888888888888,\"#fdca26\"],[1.0,\"#f0f921\"]]}],\"contourcarpet\":[{\"type\":\"contourcarpet\",\"colorbar\":{\"outlinewidth\":0,\"ticks\":\"\"}}],\"contour\":[{\"type\":\"contour\",\"colorbar\":{\"outlinewidth\":0,\"ticks\":\"\"},\"colorscale\":[[0.0,\"#0d0887\"],[0.1111111111111111,\"#46039f\"],[0.2222222222222222,\"#7201a8\"],[0.3333333333333333,\"#9c179e\"],[0.4444444444444444,\"#bd3786\"],[0.5555555555555556,\"#d8576b\"],[0.6666666666666666,\"#ed7953\"],[0.7777777777777778,\"#fb9f3a\"],[0.8888888888888888,\"#fdca26\"],[1.0,\"#f0f921\"]]}],\"surface\":[{\"type\":\"surface\",\"colorbar\":{\"outlinewidth\":0,\"ticks\":\"\"},\"colorscale\":[[0.0,\"#0d0887\"],[0.1111111111111111,\"#46039f\"],[0.2222222222222222,\"#7201a8\"],[0.3333333333333333,\"#9c179e\"],[0.4444444444444444,\"#bd3786\"],[0.5555555555555556,\"#d8576b\"],[0.6666666666666666,\"#ed7953\"],[0.7777777777777778,\"#fb9f3a\"],[0.8888888888888888,\"#fdca26\"],[1.0,\"#f0f921\"]]}],\"mesh3d\":[{\"type\":\"mesh3d\",\"colorbar\":{\"outlinewidth\":0,\"ticks\":\"\"}}],\"scatter\":[{\"fillpattern\":{\"fillmode\":\"overlay\",\"size\":10,\"solidity\":0.2},\"type\":\"scatter\"}],\"parcoords\":[{\"type\":\"parcoords\",\"line\":{\"colorbar\":{\"outlinewidth\":0,\"ticks\":\"\"}}}],\"scatterpolargl\":[{\"type\":\"scatterpolargl\",\"marker\":{\"colorbar\":{\"outlinewidth\":0,\"ticks\":\"\"}}}],\"bar\":[{\"error_x\":{\"color\":\"#2a3f5f\"},\"error_y\":{\"color\":\"#2a3f5f\"},\"marker\":{\"line\":{\"color\":\"#E5ECF6\",\"width\":0.5},\"pattern\":{\"fillmode\":\"overlay\",\"size\":10,\"solidity\":0.2}},\"type\":\"bar\"}],\"scattergeo\":[{\"type\":\"scattergeo\",\"marker\":{\"colorbar\":{\"outlinewidth\":0,\"ticks\":\"\"}}}],\"scatterpolar\":[{\"type\":\"scatterpolar\",\"marker\":{\"colorbar\":{\"outlinewidth\":0,\"ticks\":\"\"}}}],\"histogram\":[{\"marker\":{\"pattern\":{\"fillmode\":\"overlay\",\"size\":10,\"solidity\":0.2}},\"type\":\"histogram\"}],\"scattergl\":[{\"type\":\"scattergl\",\"marker\":{\"colorbar\":{\"outlinewidth\":0,\"ticks\":\"\"}}}],\"scatter3d\":[{\"type\":\"scatter3d\",\"line\":{\"colorbar\":{\"outlinewidth\":0,\"ticks\":\"\"}},\"marker\":{\"colorbar\":{\"outlinewidth\":0,\"ticks\":\"\"}}}],\"scattermapbox\":[{\"type\":\"scattermapbox\",\"marker\":{\"colorbar\":{\"outlinewidth\":0,\"ticks\":\"\"}}}],\"scatterternary\":[{\"type\":\"scatterternary\",\"marker\":{\"colorbar\":{\"outlinewidth\":0,\"ticks\":\"\"}}}],\"scattercarpet\":[{\"type\":\"scattercarpet\",\"marker\":{\"colorbar\":{\"outlinewidth\":0,\"ticks\":\"\"}}}],\"carpet\":[{\"aaxis\":{\"endlinecolor\":\"#2a3f5f\",\"gridcolor\":\"white\",\"linecolor\":\"white\",\"minorgridcolor\":\"white\",\"startlinecolor\":\"#2a3f5f\"},\"baxis\":{\"endlinecolor\":\"#2a3f5f\",\"gridcolor\":\"white\",\"linecolor\":\"white\",\"minorgridcolor\":\"white\",\"startlinecolor\":\"#2a3f5f\"},\"type\":\"carpet\"}],\"table\":[{\"cells\":{\"fill\":{\"color\":\"#EBF0F8\"},\"line\":{\"color\":\"white\"}},\"header\":{\"fill\":{\"color\":\"#C8D4E3\"},\"line\":{\"color\":\"white\"}},\"type\":\"table\"}],\"barpolar\":[{\"marker\":{\"line\":{\"color\":\"#E5ECF6\",\"width\":0.5},\"pattern\":{\"fillmode\":\"overlay\",\"size\":10,\"solidity\":0.2}},\"type\":\"barpolar\"}],\"pie\":[{\"automargin\":true,\"type\":\"pie\"}]},\"layout\":{\"autotypenumbers\":\"strict\",\"colorway\":[\"#636efa\",\"#EF553B\",\"#00cc96\",\"#ab63fa\",\"#FFA15A\",\"#19d3f3\",\"#FF6692\",\"#B6E880\",\"#FF97FF\",\"#FECB52\"],\"font\":{\"color\":\"#2a3f5f\"},\"hovermode\":\"closest\",\"hoverlabel\":{\"align\":\"left\"},\"paper_bgcolor\":\"white\",\"plot_bgcolor\":\"#E5ECF6\",\"polar\":{\"bgcolor\":\"#E5ECF6\",\"angularaxis\":{\"gridcolor\":\"white\",\"linecolor\":\"white\",\"ticks\":\"\"},\"radialaxis\":{\"gridcolor\":\"white\",\"linecolor\":\"white\",\"ticks\":\"\"}},\"ternary\":{\"bgcolor\":\"#E5ECF6\",\"aaxis\":{\"gridcolor\":\"white\",\"linecolor\":\"white\",\"ticks\":\"\"},\"baxis\":{\"gridcolor\":\"white\",\"linecolor\":\"white\",\"ticks\":\"\"},\"caxis\":{\"gridcolor\":\"white\",\"linecolor\":\"white\",\"ticks\":\"\"}},\"coloraxis\":{\"colorbar\":{\"outlinewidth\":0,\"ticks\":\"\"}},\"colorscale\":{\"sequential\":[[0.0,\"#0d0887\"],[0.1111111111111111,\"#46039f\"],[0.2222222222222222,\"#7201a8\"],[0.3333333333333333,\"#9c179e\"],[0.4444444444444444,\"#bd3786\"],[0.5555555555555556,\"#d8576b\"],[0.6666666666666666,\"#ed7953\"],[0.7777777777777778,\"#fb9f3a\"],[0.8888888888888888,\"#fdca26\"],[1.0,\"#f0f921\"]],\"sequentialminus\":[[0.0,\"#0d0887\"],[0.1111111111111111,\"#46039f\"],[0.2222222222222222,\"#7201a8\"],[0.3333333333333333,\"#9c179e\"],[0.4444444444444444,\"#bd3786\"],[0.5555555555555556,\"#d8576b\"],[0.6666666666666666,\"#ed7953\"],[0.7777777777777778,\"#fb9f3a\"],[0.8888888888888888,\"#fdca26\"],[1.0,\"#f0f921\"]],\"diverging\":[[0,\"#8e0152\"],[0.1,\"#c51b7d\"],[0.2,\"#de77ae\"],[0.3,\"#f1b6da\"],[0.4,\"#fde0ef\"],[0.5,\"#f7f7f7\"],[0.6,\"#e6f5d0\"],[0.7,\"#b8e186\"],[0.8,\"#7fbc41\"],[0.9,\"#4d9221\"],[1,\"#276419\"]]},\"xaxis\":{\"gridcolor\":\"white\",\"linecolor\":\"white\",\"ticks\":\"\",\"title\":{\"standoff\":15},\"zerolinecolor\":\"white\",\"automargin\":true,\"zerolinewidth\":2},\"yaxis\":{\"gridcolor\":\"white\",\"linecolor\":\"white\",\"ticks\":\"\",\"title\":{\"standoff\":15},\"zerolinecolor\":\"white\",\"automargin\":true,\"zerolinewidth\":2},\"scene\":{\"xaxis\":{\"backgroundcolor\":\"#E5ECF6\",\"gridcolor\":\"white\",\"linecolor\":\"white\",\"showbackground\":true,\"ticks\":\"\",\"zerolinecolor\":\"white\",\"gridwidth\":2},\"yaxis\":{\"backgroundcolor\":\"#E5ECF6\",\"gridcolor\":\"white\",\"linecolor\":\"white\",\"showbackground\":true,\"ticks\":\"\",\"zerolinecolor\":\"white\",\"gridwidth\":2},\"zaxis\":{\"backgroundcolor\":\"#E5ECF6\",\"gridcolor\":\"white\",\"linecolor\":\"white\",\"showbackground\":true,\"ticks\":\"\",\"zerolinecolor\":\"white\",\"gridwidth\":2}},\"shapedefaults\":{\"line\":{\"color\":\"#2a3f5f\"}},\"annotationdefaults\":{\"arrowcolor\":\"#2a3f5f\",\"arrowhead\":0,\"arrowwidth\":1},\"geo\":{\"bgcolor\":\"white\",\"landcolor\":\"#E5ECF6\",\"subunitcolor\":\"white\",\"showland\":true,\"showlakes\":true,\"lakecolor\":\"white\"},\"title\":{\"x\":0.05},\"mapbox\":{\"style\":\"light\"}}},\"scene\":{\"domain\":{\"x\":[0.0,1.0],\"y\":[0.0,1.0]},\"xaxis\":{\"title\":{\"text\":\"scores\"}},\"yaxis\":{\"title\":{\"text\":\"Country\"}},\"zaxis\":{\"title\":{\"text\":\"Average Consumption\"}}},\"coloraxis\":{\"colorbar\":{\"title\":{\"text\":\"anomaly\"}},\"colorscale\":[[0.0,\"#0d0887\"],[0.1111111111111111,\"#46039f\"],[0.2222222222222222,\"#7201a8\"],[0.3333333333333333,\"#9c179e\"],[0.4444444444444444,\"#bd3786\"],[0.5555555555555556,\"#d8576b\"],[0.6666666666666666,\"#ed7953\"],[0.7777777777777778,\"#fb9f3a\"],[0.8888888888888888,\"#fdca26\"],[1.0,\"#f0f921\"]]},\"legend\":{\"tracegroupgap\":0},\"margin\":{\"t\":60}},                        {\"responsive\": true}                    ).then(function(){\n",
       "                            \n",
       "var gd = document.getElementById('5ed5cd0a-a607-4400-9d97-18f38057c864');\n",
       "var x = new MutationObserver(function (mutations, observer) {{\n",
       "        var display = window.getComputedStyle(gd).display;\n",
       "        if (!display || display === 'none') {{\n",
       "            console.log([gd, 'removed!']);\n",
       "            Plotly.purge(gd);\n",
       "            observer.disconnect();\n",
       "        }}\n",
       "}});\n",
       "\n",
       "// Listen for the removal of the full notebook cells\n",
       "var notebookContainer = gd.closest('#notebook-container');\n",
       "if (notebookContainer) {{\n",
       "    x.observe(notebookContainer, {childList: true});\n",
       "}}\n",
       "\n",
       "// Listen for the clearing of the current output cell\n",
       "var outputEl = gd.closest('.output');\n",
       "if (outputEl) {{\n",
       "    x.observe(outputEl, {childList: true});\n",
       "}}\n",
       "\n",
       "                        })                };                });            </script>        </div>"
      ]
     },
     "metadata": {},
     "output_type": "display_data"
    }
   ],
   "source": [
    "fig = px.scatter_3d(df,x='scores',\n",
    "                       y='Country',\n",
    "                       z='Average Consumption',\n",
    "                       color='anomaly')\n",
    "fig.show()"
   ]
  },
  {
   "cell_type": "code",
   "execution_count": 77,
   "id": "4a2fd219",
   "metadata": {},
   "outputs": [
    {
     "data": {
      "text/html": [
       "<div>\n",
       "<style scoped>\n",
       "    .dataframe tbody tr th:only-of-type {\n",
       "        vertical-align: middle;\n",
       "    }\n",
       "\n",
       "    .dataframe tbody tr th {\n",
       "        vertical-align: top;\n",
       "    }\n",
       "\n",
       "    .dataframe thead th {\n",
       "        text-align: right;\n",
       "    }\n",
       "</style>\n",
       "<table border=\"1\" class=\"dataframe\">\n",
       "  <thead>\n",
       "    <tr style=\"text-align: right;\">\n",
       "      <th></th>\n",
       "      <th>Year</th>\n",
       "      <th>Hydro(TWh)</th>\n",
       "      <th>Biofuel(TWh)</th>\n",
       "      <th>Solar PV (TWh)</th>\n",
       "      <th>Geothermal (TWh)</th>\n",
       "    </tr>\n",
       "  </thead>\n",
       "  <tbody>\n",
       "    <tr>\n",
       "      <th>0</th>\n",
       "      <td>1990</td>\n",
       "      <td>2191.67</td>\n",
       "      <td>3.88</td>\n",
       "      <td>0.09</td>\n",
       "      <td>36.42</td>\n",
       "    </tr>\n",
       "    <tr>\n",
       "      <th>1</th>\n",
       "      <td>1991</td>\n",
       "      <td>2268.63</td>\n",
       "      <td>4.19</td>\n",
       "      <td>0.10</td>\n",
       "      <td>37.39</td>\n",
       "    </tr>\n",
       "    <tr>\n",
       "      <th>2</th>\n",
       "      <td>1992</td>\n",
       "      <td>2267.16</td>\n",
       "      <td>4.63</td>\n",
       "      <td>0.12</td>\n",
       "      <td>39.30</td>\n",
       "    </tr>\n",
       "    <tr>\n",
       "      <th>3</th>\n",
       "      <td>1993</td>\n",
       "      <td>2397.67</td>\n",
       "      <td>5.61</td>\n",
       "      <td>0.15</td>\n",
       "      <td>40.23</td>\n",
       "    </tr>\n",
       "    <tr>\n",
       "      <th>4</th>\n",
       "      <td>1994</td>\n",
       "      <td>2419.73</td>\n",
       "      <td>7.31</td>\n",
       "      <td>0.17</td>\n",
       "      <td>41.05</td>\n",
       "    </tr>\n",
       "    <tr>\n",
       "      <th>5</th>\n",
       "      <td>1995</td>\n",
       "      <td>2545.96</td>\n",
       "      <td>7.95</td>\n",
       "      <td>0.19</td>\n",
       "      <td>39.89</td>\n",
       "    </tr>\n",
       "    <tr>\n",
       "      <th>6</th>\n",
       "      <td>1996</td>\n",
       "      <td>2583.18</td>\n",
       "      <td>9.45</td>\n",
       "      <td>0.22</td>\n",
       "      <td>42.18</td>\n",
       "    </tr>\n",
       "    <tr>\n",
       "      <th>7</th>\n",
       "      <td>1997</td>\n",
       "      <td>2614.54</td>\n",
       "      <td>12.08</td>\n",
       "      <td>0.27</td>\n",
       "      <td>42.38</td>\n",
       "    </tr>\n",
       "    <tr>\n",
       "      <th>8</th>\n",
       "      <td>1998</td>\n",
       "      <td>2628.63</td>\n",
       "      <td>16.07</td>\n",
       "      <td>0.35</td>\n",
       "      <td>45.35</td>\n",
       "    </tr>\n",
       "    <tr>\n",
       "      <th>9</th>\n",
       "      <td>1999</td>\n",
       "      <td>2636.26</td>\n",
       "      <td>21.52</td>\n",
       "      <td>0.61</td>\n",
       "      <td>48.66</td>\n",
       "    </tr>\n",
       "    <tr>\n",
       "      <th>10</th>\n",
       "      <td>2000</td>\n",
       "      <td>2695.85</td>\n",
       "      <td>31.34</td>\n",
       "      <td>0.99</td>\n",
       "      <td>51.98</td>\n",
       "    </tr>\n",
       "    <tr>\n",
       "      <th>11</th>\n",
       "      <td>2001</td>\n",
       "      <td>2638.20</td>\n",
       "      <td>38.45</td>\n",
       "      <td>1.32</td>\n",
       "      <td>51.57</td>\n",
       "    </tr>\n",
       "    <tr>\n",
       "      <th>12</th>\n",
       "      <td>2002</td>\n",
       "      <td>2711.12</td>\n",
       "      <td>52.85</td>\n",
       "      <td>1.58</td>\n",
       "      <td>52.29</td>\n",
       "    </tr>\n",
       "    <tr>\n",
       "      <th>13</th>\n",
       "      <td>2003</td>\n",
       "      <td>2726.33</td>\n",
       "      <td>64.23</td>\n",
       "      <td>2.01</td>\n",
       "      <td>54.09</td>\n",
       "    </tr>\n",
       "    <tr>\n",
       "      <th>14</th>\n",
       "      <td>2004</td>\n",
       "      <td>2894.22</td>\n",
       "      <td>84.43</td>\n",
       "      <td>2.66</td>\n",
       "      <td>56.50</td>\n",
       "    </tr>\n",
       "    <tr>\n",
       "      <th>15</th>\n",
       "      <td>2005</td>\n",
       "      <td>3019.50</td>\n",
       "      <td>103.92</td>\n",
       "      <td>3.92</td>\n",
       "      <td>58.28</td>\n",
       "    </tr>\n",
       "    <tr>\n",
       "      <th>16</th>\n",
       "      <td>2006</td>\n",
       "      <td>3124.34</td>\n",
       "      <td>133.05</td>\n",
       "      <td>5.52</td>\n",
       "      <td>59.61</td>\n",
       "    </tr>\n",
       "    <tr>\n",
       "      <th>17</th>\n",
       "      <td>2007</td>\n",
       "      <td>3165.71</td>\n",
       "      <td>170.83</td>\n",
       "      <td>7.47</td>\n",
       "      <td>62.29</td>\n",
       "    </tr>\n",
       "    <tr>\n",
       "      <th>18</th>\n",
       "      <td>2008</td>\n",
       "      <td>3285.59</td>\n",
       "      <td>221.05</td>\n",
       "      <td>11.92</td>\n",
       "      <td>64.91</td>\n",
       "    </tr>\n",
       "    <tr>\n",
       "      <th>19</th>\n",
       "      <td>2009</td>\n",
       "      <td>3338.82</td>\n",
       "      <td>277.44</td>\n",
       "      <td>20.04</td>\n",
       "      <td>67.03</td>\n",
       "    </tr>\n",
       "    <tr>\n",
       "      <th>20</th>\n",
       "      <td>2010</td>\n",
       "      <td>3530.72</td>\n",
       "      <td>341.38</td>\n",
       "      <td>32.22</td>\n",
       "      <td>68.10</td>\n",
       "    </tr>\n",
       "    <tr>\n",
       "      <th>21</th>\n",
       "      <td>2011</td>\n",
       "      <td>2603.78</td>\n",
       "      <td>436.01</td>\n",
       "      <td>63.76</td>\n",
       "      <td>69.29</td>\n",
       "    </tr>\n",
       "    <tr>\n",
       "      <th>22</th>\n",
       "      <td>2012</td>\n",
       "      <td>3765.96</td>\n",
       "      <td>525.04</td>\n",
       "      <td>99.03</td>\n",
       "      <td>70.27</td>\n",
       "    </tr>\n",
       "    <tr>\n",
       "      <th>23</th>\n",
       "      <td>2013</td>\n",
       "      <td>2898.28</td>\n",
       "      <td>646.36</td>\n",
       "      <td>139.64</td>\n",
       "      <td>71.74</td>\n",
       "    </tr>\n",
       "    <tr>\n",
       "      <th>24</th>\n",
       "      <td>2014</td>\n",
       "      <td>3976.01</td>\n",
       "      <td>718.07</td>\n",
       "      <td>190.25</td>\n",
       "      <td>77.52</td>\n",
       "    </tr>\n",
       "    <tr>\n",
       "      <th>25</th>\n",
       "      <td>2015</td>\n",
       "      <td>3989.28</td>\n",
       "      <td>838.31</td>\n",
       "      <td>250.75</td>\n",
       "      <td>80.56</td>\n",
       "    </tr>\n",
       "    <tr>\n",
       "      <th>26</th>\n",
       "      <td>2016</td>\n",
       "      <td>4162.26</td>\n",
       "      <td>958.15</td>\n",
       "      <td>329.14</td>\n",
       "      <td>82.18</td>\n",
       "    </tr>\n",
       "    <tr>\n",
       "      <th>27</th>\n",
       "      <td>2017</td>\n",
       "      <td>4197.29</td>\n",
       "      <td>1127.31</td>\n",
       "      <td>443.55</td>\n",
       "      <td>85.34</td>\n",
       "    </tr>\n",
       "  </tbody>\n",
       "</table>\n",
       "</div>"
      ],
      "text/plain": [
       "    Year  Hydro(TWh)  Biofuel(TWh)  Solar PV (TWh)  Geothermal (TWh)\n",
       "0   1990     2191.67          3.88            0.09             36.42\n",
       "1   1991     2268.63          4.19            0.10             37.39\n",
       "2   1992     2267.16          4.63            0.12             39.30\n",
       "3   1993     2397.67          5.61            0.15             40.23\n",
       "4   1994     2419.73          7.31            0.17             41.05\n",
       "5   1995     2545.96          7.95            0.19             39.89\n",
       "6   1996     2583.18          9.45            0.22             42.18\n",
       "7   1997     2614.54         12.08            0.27             42.38\n",
       "8   1998     2628.63         16.07            0.35             45.35\n",
       "9   1999     2636.26         21.52            0.61             48.66\n",
       "10  2000     2695.85         31.34            0.99             51.98\n",
       "11  2001     2638.20         38.45            1.32             51.57\n",
       "12  2002     2711.12         52.85            1.58             52.29\n",
       "13  2003     2726.33         64.23            2.01             54.09\n",
       "14  2004     2894.22         84.43            2.66             56.50\n",
       "15  2005     3019.50        103.92            3.92             58.28\n",
       "16  2006     3124.34        133.05            5.52             59.61\n",
       "17  2007     3165.71        170.83            7.47             62.29\n",
       "18  2008     3285.59        221.05           11.92             64.91\n",
       "19  2009     3338.82        277.44           20.04             67.03\n",
       "20  2010     3530.72        341.38           32.22             68.10\n",
       "21  2011     2603.78        436.01           63.76             69.29\n",
       "22  2012     3765.96        525.04           99.03             70.27\n",
       "23  2013     2898.28        646.36          139.64             71.74\n",
       "24  2014     3976.01        718.07          190.25             77.52\n",
       "25  2015     3989.28        838.31          250.75             80.56\n",
       "26  2016     4162.26        958.15          329.14             82.18\n",
       "27  2017     4197.29       1127.31          443.55             85.34"
      ]
     },
     "execution_count": 77,
     "metadata": {},
     "output_type": "execute_result"
    }
   ],
   "source": [
    "#Making DataFrame for different contributions in renwable energy consumption\n",
    "reg_data = pd.read_csv(\"renewablePowerGeneration97-17.csv\")\n",
    "reg_data"
   ]
  },
  {
   "cell_type": "code",
   "execution_count": 78,
   "id": "5ef047f6",
   "metadata": {},
   "outputs": [
    {
     "name": "stdout",
     "output_type": "stream",
     "text": [
      "       Hydro(TWh)  Biofuel(TWh)  Solar PV (TWh)  Geothermal (TWh)\n",
      "0         2191.67          3.88            0.09             36.42\n",
      "1         2268.63          4.19            0.10             37.39\n",
      "2         2267.16          4.63            0.12             39.30\n",
      "3         2397.67          5.61            0.15             40.23\n",
      "4         2419.73          7.31            0.17             41.05\n",
      "5         2545.96          7.95            0.19             39.89\n",
      "6         2583.18          9.45            0.22             42.18\n",
      "7         2614.54         12.08            0.27             42.38\n",
      "8         2628.63         16.07            0.35             45.35\n",
      "9         2636.26         21.52            0.61             48.66\n",
      "10        2695.85         31.34            0.99             51.98\n",
      "11        2638.20         38.45            1.32             51.57\n",
      "12        2711.12         52.85            1.58             52.29\n",
      "13        2726.33         64.23            2.01             54.09\n",
      "14        2894.22         84.43            2.66             56.50\n",
      "15        3019.50        103.92            3.92             58.28\n",
      "16        3124.34        133.05            5.52             59.61\n",
      "17        3165.71        170.83            7.47             62.29\n",
      "18        3285.59        221.05           11.92             64.91\n",
      "19        3338.82        277.44           20.04             67.03\n",
      "20        3530.72        341.38           32.22             68.10\n",
      "21        2603.78        436.01           63.76             69.29\n",
      "22        3765.96        525.04           99.03             70.27\n",
      "23        2898.28        646.36          139.64             71.74\n",
      "24        3976.01        718.07          190.25             77.52\n",
      "25        3989.28        838.31          250.75             80.56\n",
      "26        4162.26        958.15          329.14             82.18\n",
      "27        4197.29       1127.31          443.55             85.34\n",
      "Total    83276.69       6860.91         1608.04           1596.40\n"
     ]
    }
   ],
   "source": [
    "#Calculating 'Total' for all renewable sources \n",
    "reg_data = pd.read_csv(\"renewablePowerGeneration97-17.csv\")\n",
    "regnew_data = reg_data[[\"Hydro(TWh)\",\"Biofuel(TWh)\",\"Solar PV (TWh)\", \"Geothermal (TWh)\"]]\n",
    "total1 = regnew_data.sum()\n",
    "total1.name = 'Total'\n",
    "# Assign sum of all rows of DataFrame as a new Row\n",
    "regnew_data = regnew_data.append(total1.transpose())\n",
    "print(regnew_data)"
   ]
  },
  {
   "cell_type": "code",
   "execution_count": 79,
   "id": "3c45576e",
   "metadata": {},
   "outputs": [
    {
     "name": "stdout",
     "output_type": "stream",
     "text": [
      "{'Hydro(TWh)': 83276.68999999999, 'Biofuel(TWh)': 6860.91, 'Solar PV (TWh)': 1608.0399999999997, 'Geothermal (TWh)': 1596.3999999999999}\n"
     ]
    }
   ],
   "source": [
    "#Adding renewable energy and their respective 'total' values as key-value pairs in Dictionary \n",
    "ret = {}\n",
    "for column in regnew_data.columns:\n",
    "    ret[column]=regnew_data[column].iloc[28]\n",
    "print(ret)    "
   ]
  },
  {
   "cell_type": "code",
   "execution_count": 80,
   "id": "f6eaf655",
   "metadata": {},
   "outputs": [
    {
     "data": {
      "text/html": [
       "<div>\n",
       "<style scoped>\n",
       "    .dataframe tbody tr th:only-of-type {\n",
       "        vertical-align: middle;\n",
       "    }\n",
       "\n",
       "    .dataframe tbody tr th {\n",
       "        vertical-align: top;\n",
       "    }\n",
       "\n",
       "    .dataframe thead th {\n",
       "        text-align: right;\n",
       "    }\n",
       "</style>\n",
       "<table border=\"1\" class=\"dataframe\">\n",
       "  <thead>\n",
       "    <tr style=\"text-align: right;\">\n",
       "      <th></th>\n",
       "      <th>Hydro(TWh)</th>\n",
       "      <th>Biofuel(TWh)</th>\n",
       "      <th>Solar PV (TWh)</th>\n",
       "      <th>Geothermal (TWh)</th>\n",
       "    </tr>\n",
       "  </thead>\n",
       "  <tbody>\n",
       "    <tr>\n",
       "      <th>0</th>\n",
       "      <td>83276.69</td>\n",
       "      <td>6860.91</td>\n",
       "      <td>1608.04</td>\n",
       "      <td>1596.4</td>\n",
       "    </tr>\n",
       "  </tbody>\n",
       "</table>\n",
       "</div>"
      ],
      "text/plain": [
       "   Hydro(TWh)  Biofuel(TWh)  Solar PV (TWh)  Geothermal (TWh)\n",
       "0    83276.69       6860.91         1608.04            1596.4"
      ]
     },
     "execution_count": 80,
     "metadata": {},
     "output_type": "execute_result"
    }
   ],
   "source": [
    "retdf = pd.DataFrame([ret])\n",
    "retdf"
   ]
  },
  {
   "cell_type": "code",
   "execution_count": 81,
   "id": "a2081462",
   "metadata": {},
   "outputs": [
    {
     "data": {
      "text/plain": [
       "Text(0.5, 1.0, 'Total Generation of Re-newable En')"
      ]
     },
     "execution_count": 81,
     "metadata": {},
     "output_type": "execute_result"
    },
    {
     "data": {
      "image/png": "[encoded data removed]",
      "text/plain": [
       "<Figure size 864x576 with 1 Axes>"
      ]
     },
     "metadata": {},
     "output_type": "display_data"
    }
   ],
   "source": [
    "#Plotting barplot for better comparisons\n",
    "f,ax = plt.subplots(figsize=(12,8))\n",
    "plt.bar(ret.keys(),ret.values())\n",
    "plt.xticks(rotation = 0, ha = 'right')\n",
    "ax.set_title(\"Total Generation of Re-newable En\")"
   ]
  },
  {
   "cell_type": "code",
   "execution_count": 82,
   "id": "7448df8b",
   "metadata": {},
   "outputs": [
    {
     "data": {
      "image/png": "[encoded data removed]",
      "text/plain": [
       "<Figure size 432x288 with 1 Axes>"
      ]
     },
     "metadata": {},
     "output_type": "display_data"
    }
   ],
   "source": [
    "#Plotting line graphs for different renewable sources for contribution\n",
    "plt.plot(reg_data['Year'],reg_data['Hydro(TWh)'],label='Hydro(TWh)',linewidth=4)\n",
    "plt.plot(reg_data['Year'],reg_data['Biofuel(TWh)'],label='Biofuel(TWh)',linewidth=4)\n",
    "plt.plot(reg_data['Year'],reg_data['Solar PV (TWh)'],label='Solar PV (TWh)',linewidth=4)\n",
    "plt.plot(reg_data['Year'],reg_data['Geothermal (TWh)'],label='Geothermal (TWh)',linewidth=4)\n",
    "\n",
    "\n",
    "\n",
    "#add title and axis labels\n",
    "plt.title('Renewable Energy Generation through different sources over the years')\n",
    "plt.xlabel('Different Sources')\n",
    "plt.ylabel('Consumption')\n",
    "\n",
    "#add legend\n",
    "plt.legend()\n",
    "\n",
    "plt.legend(bbox_to_anchor=(1.05, 1))\n",
    "\n",
    "#display plot\n",
    "plt.show()"
   ]
  },
  {
   "cell_type": "markdown",
   "id": "a6b71edb",
   "metadata": {},
   "source": [
    "This barplot clearly indicates the supremacy of Hydro Renewable Energy source generation over the years.  "
   ]
  },
  {
   "cell_type": "code",
   "execution_count": null,
   "id": "af43eab2",
   "metadata": {},
   "outputs": [],
   "source": []
  },
  {
   "cell_type": "code",
   "execution_count": null,
   "id": "113e6cbe",
   "metadata": {},
   "outputs": [],
   "source": []
  }
 ],
 "metadata": {
  "kernelspec": {
   "display_name": "Python 3 (ipykernel)",
   "language": "python",
   "name": "python3"
  },
  "language_info": {
   "codemirror_mode": {
    "name": "ipython",
    "version": 3
   },
   "file_extension": ".py",
   "mimetype": "text/x-python",
   "name": "python",
   "nbconvert_exporter": "python",
   "pygments_lexer": "ipython3",
   "version": "3.9.7"
  }
 },
 "nbformat": 4,
 "nbformat_minor": 5
}
